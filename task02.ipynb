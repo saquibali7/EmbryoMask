{
  "cells": [
    {
      "cell_type": "markdown",
      "metadata": {
        "id": "view-in-github",
        "colab_type": "text"
      },
      "source": [
        "<a href=\"https://colab.research.google.com/github/saquibali7/Image_Segmentation/blob/main/task02.ipynb\" target=\"_parent\"><img src=\"https://colab.research.google.com/assets/colab-badge.svg\" alt=\"Open In Colab\"/></a>"
      ]
    },
    {
      "cell_type": "code",
      "execution_count": 1,
      "metadata": {
        "id": "nvKURn1Cvxg3"
      },
      "outputs": [],
      "source": [
        "import os\n",
        "import numpy as np\n",
        "import pandas as pd\n",
        "import matplotlib.pyplot as plt\n",
        "from numpy.random import randint\n",
        "from PIL import Image"
      ]
    },
    {
      "cell_type": "code",
      "execution_count": 2,
      "metadata": {
        "id": "flJW-phbaVjA"
      },
      "outputs": [],
      "source": [
        "import torch\n",
        "import torch.nn as nn\n",
        "import torchvision\n",
        "import torch.optim as optim\n",
        "from torch.utils.data import DataLoader\n",
        "from torch.utils.data import Dataset\n",
        "import torchvision.transforms as transforms\n",
        "from torchvision.io import read_image\n",
        "from torchvision.utils import save_image"
      ]
    },
    {
      "cell_type": "code",
      "execution_count": 3,
      "metadata": {
        "colab": {
          "base_uri": "https://localhost:8080/"
        },
        "id": "-xjmYu-pas3u",
        "outputId": "548630e3-1f11-4418-d7d8-d2f9f41f22ab"
      },
      "outputs": [
        {
          "output_type": "stream",
          "name": "stdout",
          "text": [
            "Mounted at /content/drive\n"
          ]
        }
      ],
      "source": [
        "from google.colab import drive\n",
        "drive.mount('/content/drive')"
      ]
    },
    {
      "cell_type": "markdown",
      "metadata": {
        "id": "1BlZ0779WhdB"
      },
      "source": [
        "### UNET MODEL"
      ]
    },
    {
      "cell_type": "code",
      "execution_count": 4,
      "metadata": {
        "id": "nl4PoJ3rWU6i"
      },
      "outputs": [],
      "source": [
        "class CNNBlocks(nn.Module):\n",
        "  def __init__(self, in_channels, out_channels, down=True, act=\"relu\", use_dropout=False):\n",
        "    super(CNNBlocks, self).__init__()\n",
        "    self.conv = nn.Sequential(\n",
        "        nn.Conv2d(in_channels, out_channels, 4, 2, 1, bias=False, padding_mode=\"reflect\")\n",
        "        if down\n",
        "        else nn.ConvTranspose2d(in_channels, out_channels, 4, 2, 1, bias = False),\n",
        "        nn.BatchNorm2d(out_channels),\n",
        "        nn.ReLU() if act==\"relu\" else nn.LeakyReLU(0.2),\n",
        "    )\n",
        "\n",
        "    self.use_dropout= use_dropout\n",
        "    self.dropout = nn.Dropout(0.5)\n",
        "    self.down = down\n",
        "\n",
        "  def forward(self, x):\n",
        "      x = self.conv(x)\n",
        "      return self.dropout(x) if self.use_dropout else x"
      ]
    },
    {
      "cell_type": "code",
      "execution_count": 5,
      "metadata": {
        "id": "ye_qN-vwWZUW"
      },
      "outputs": [],
      "source": [
        "class UNET(nn.Module):\n",
        "  def __init__(self, in_channels, features=64):\n",
        "    super().__init__()\n",
        "    self.initial_down = nn.Sequential(\n",
        "        nn.Conv2d(in_channels, features, 4, 2, 1, padding_mode=\"reflect\"),\n",
        "        nn.LeakyReLU(0.2),\n",
        "    )\n",
        "\n",
        "    self.down1 = CNNBlocks(features, features*2, down=True, act=\"leaky\", use_dropout=False)\n",
        "    self.down2 = CNNBlocks(features*2, features*4, down=True, act=\"leaky\", use_dropout=False)\n",
        "    self.down3 = CNNBlocks(features*4, features*8, down=True, act=\"leaky\", use_dropout=False)\n",
        "    self.down4 = CNNBlocks(features*8, features*8, down=True, act=\"leaky\", use_dropout=False)\n",
        "    self.down5 = CNNBlocks(features*8, features*8, down=True, act=\"leaky\", use_dropout=False)\n",
        "    self.down6 = CNNBlocks(features*8, features*8, down=True, act=\"leaky\", use_dropout=False)\n",
        "    self.bottleneck = nn.Sequential(\n",
        "        nn.Conv2d(features*8, features*8, 4, 2, 1),\n",
        "        nn.ReLU(),\n",
        "    )\n",
        "\n",
        "    self.up1 = CNNBlocks(features*8, features*8, down=False, act=\"relu\", use_dropout=True)\n",
        "    self.up2 = CNNBlocks(features*8*2, features*8, down=False, act=\"relu\", use_dropout=True)\n",
        "    self.up3 = CNNBlocks(features*8*2, features*8, down=False, act=\"relu\", use_dropout=True)\n",
        "    self.up4 = CNNBlocks(features*8*2, features*8, down=False, act=\"relu\", use_dropout=False)\n",
        "    self.up5 = CNNBlocks(features*8*2, features*4, down=False, act=\"relu\", use_dropout=False)\n",
        "    self.up6 = CNNBlocks(features*4*2, features*2, down=False, act=\"relu\", use_dropout=False)\n",
        "    self.up7 = CNNBlocks(features*2*2, features, down=False, act=\"relu\", use_dropout=False)\n",
        "    self.finalup = nn.Sequential(\n",
        "        nn.ConvTranspose2d(features*2, 1 , 4, 2, 1),\n",
        "        nn.Sigmoid(),\n",
        "    )\n",
        "\n",
        "\n",
        "  def forward(self , x):\n",
        "      d1 = self.initial_down(x)\n",
        "      d2 = self.down1(d1)\n",
        "      d3 = self.down2(d2)\n",
        "      d4 = self.down3(d3)\n",
        "      d5 = self.down4(d4)\n",
        "      d6 = self.down5(d5)\n",
        "      d7 = self.down6(d6)\n",
        "      bottleneck = self.bottleneck(d7)\n",
        "      up1 = self.up1(bottleneck)\n",
        "      up2 = self.up2(torch.cat([up1,d7], 1))\n",
        "      up3 = self.up3(torch.cat([up2,d6], 1))\n",
        "      up4 = self.up4(torch.cat([up3,d5], 1))\n",
        "      up5 = self.up5(torch.cat([up4,d4], 1))\n",
        "      up6 = self.up6(torch.cat([up5,d3], 1))\n",
        "      up7 = self.up7(torch.cat([up6,d2], 1))\n",
        "      up8 = self.finalup(torch.cat([up7, d1], 1))\n",
        "      return up8"
      ]
    },
    {
      "cell_type": "code",
      "execution_count": 8,
      "metadata": {
        "colab": {
          "base_uri": "https://localhost:8080/"
        },
        "id": "4FshMsr6WfPa",
        "outputId": "e4d83710-e2c4-4d10-80a9-409ea478fb38"
      },
      "outputs": [
        {
          "output_type": "stream",
          "name": "stdout",
          "text": [
            "torch.Size([8, 1, 256, 256])\n"
          ]
        }
      ],
      "source": [
        "in_channels = 3\n",
        "features = 64\n",
        "unet = UNET(in_channels = in_channels, features=features, )\n",
        "x= torch.rand((8,3,256,256))\n",
        "out = unet(x)\n",
        "print(out.shape)"
      ]
    },
    {
      "cell_type": "markdown",
      "metadata": {
        "id": "d2X1ro_5Wm0P"
      },
      "source": [
        "### Data Preprocessing"
      ]
    },
    {
      "cell_type": "code",
      "execution_count": 9,
      "metadata": {
        "id": "bZkqacL2W2jf"
      },
      "outputs": [],
      "source": [
        "from torch.utils.data import Dataset, DataLoader\n",
        "from torchvision.utils import save_image\n",
        "import albumentations as A\n",
        "from albumentations.pytorch import ToTensorV2"
      ]
    },
    {
      "cell_type": "code",
      "execution_count": 10,
      "metadata": {
        "id": "cbkjLOqmZHpB"
      },
      "outputs": [],
      "source": [
        "CHANNELS_IMG = 3\n",
        "IMAGE_SIZE = 256\n",
        "LEARNING_RATE = 2e-4\n",
        "EPOCHS = 50\n",
        "FEATURES= 64\n",
        "BATCH_SIZE=8\n",
        "device = torch.device(\"cuda\" if torch.cuda.is_available() else \"cpu\")"
      ]
    },
    {
      "cell_type": "code",
      "execution_count": 11,
      "metadata": {
        "colab": {
          "base_uri": "https://localhost:8080/"
        },
        "id": "AU7tO_rHaukI",
        "outputId": "55242e19-788f-4ded-adb6-ed7d57c18e20"
      },
      "outputs": [
        {
          "output_type": "stream",
          "name": "stdout",
          "text": [
            "3668\n"
          ]
        }
      ],
      "source": [
        "\n",
        "path = '/content/drive/MyDrive/Data_Embryo_Mask'\n",
        "files = os.listdir(path)\n",
        "print(len(files))"
      ]
    },
    {
      "cell_type": "code",
      "execution_count": 12,
      "metadata": {
        "colab": {
          "base_uri": "https://localhost:8080/"
        },
        "id": "paOEfKgdWQFQ",
        "outputId": "fdce63d8-552e-4550-efa4-1bdf69868bc1"
      },
      "outputs": [
        {
          "output_type": "stream",
          "name": "stdout",
          "text": [
            "Mask_4.jpg\n"
          ]
        }
      ],
      "source": [
        "print(files[3009])"
      ]
    },
    {
      "cell_type": "code",
      "execution_count": 13,
      "metadata": {
        "id": "e-h9B3j0bpT4"
      },
      "outputs": [],
      "source": [
        "\n",
        "def file_no(file_name):\n",
        "  file_type = file_name.split(\"_\")\n",
        "  file_no = file_type[1].split(\".\")\n",
        "  file_number = file_no[0]\n",
        "  return file_number"
      ]
    },
    {
      "cell_type": "code",
      "execution_count": 14,
      "metadata": {
        "id": "X4pUdn9dip7t"
      },
      "outputs": [],
      "source": [
        "def img_arr(path, file_name):\n",
        "  img = Image.open(os.path.join(path,file_name))\n",
        "  img = np.array(img)/255.0\n",
        "  # if file_name[0]=='E':\n",
        "  #   img = img/255.0\n",
        "  # else :\n",
        "  #   img = img/255\n",
        "  #   img = img.astype(int)\n",
        "  return img"
      ]
    },
    {
      "cell_type": "code",
      "execution_count": 15,
      "metadata": {
        "colab": {
          "base_uri": "https://localhost:8080/",
          "height": 217
        },
        "id": "RFFDx4rOb4ln",
        "outputId": "00c9416d-aacb-4888-9f51-874798bf9893"
      },
      "outputs": [
        {
          "output_type": "stream",
          "name": "stdout",
          "text": [
            "(500, 500, 4)\n"
          ]
        },
        {
          "output_type": "display_data",
          "data": {
            "text/plain": [
              "<Figure size 432x288 with 2 Axes>"
            ],
            "image/png": "[encoded data removed]"
          },
          "metadata": {
            "needs_background": "light"
          }
        }
      ],
      "source": [
        "ix = randint(0, len(files))\n",
        "file_name = files[ix]\n",
        "n=file_no(file_name)\n",
        "if(file_name[0]=='M'):\n",
        "  mask_img = img_arr(path,file_name)\n",
        "  emb_img = img_arr(path,'Embryo_'+n+'.jpg')\n",
        "else :\n",
        "  emb_img = img_arr(path, file_name)\n",
        "  mask_img = img_arr(path,'Mask_'+n+'.jpg')\n",
        "\n",
        "img = [emb_img, mask_img]\n",
        "print(mask_img.shape)\n",
        "titles = [\"Embryo\", \"Mask\"]\n",
        "for i in range(2):\n",
        "  plt.subplot(1,2,i+1)\n",
        "  plt.imshow(img[i])\n",
        "  plt.title(titles[i])\n",
        "  plt.axis(\"off\")  \n",
        "  \n",
        "\n",
        "\n"
      ]
    },
    {
      "cell_type": "code",
      "execution_count": 16,
      "metadata": {
        "colab": {
          "base_uri": "https://localhost:8080/"
        },
        "id": "Pma1_QylLKjw",
        "outputId": "70279c82-ae20-4e8c-a491-64030decfd09"
      },
      "outputs": [
        {
          "output_type": "stream",
          "name": "stdout",
          "text": [
            "Image not opened!!\n"
          ]
        }
      ],
      "source": [
        "X = []\n",
        "\n",
        "for file in files:\n",
        "  if(file[0]=='M'):\n",
        "    continue\n",
        "  else :\n",
        "    try:\n",
        "      img = Image.open(os.path.join(path, file))\n",
        "      emb_img =  img_arr(path, file)\n",
        "      n = file_no(file)\n",
        "      mask_img = img_arr(path, 'Mask_'+n+'.jpg')\n",
        "      X.append(file)\n",
        "    except:\n",
        "      print(\"Image not opened!!\")"
      ]
    },
    {
      "cell_type": "code",
      "execution_count": 17,
      "metadata": {
        "id": "MSJWkGz7YaGH"
      },
      "outputs": [],
      "source": [
        "import albumentations as A\n",
        "from albumentations.pytorch import ToTensorV2\n",
        "\n",
        "transforms = A.Compose(\n",
        "    [   \n",
        "        A.Resize(IMAGE_SIZE, IMAGE_SIZE),\n",
        "        ToTensorV2(),\n",
        "    ]\n",
        ")"
      ]
    },
    {
      "cell_type": "code",
      "execution_count": 18,
      "metadata": {
        "id": "RL8theUdpCis"
      },
      "outputs": [],
      "source": [
        "class ImageDataset(Dataset):\n",
        "  def __init__(self, root_dir, X, transforms=None):\n",
        "    self.root_dir = root_dir\n",
        "    self.files = os.listdir(self.root_dir)\n",
        "    self.transform = transforms\n",
        "\n",
        "  def __len__(self):\n",
        "    return len(X)\n",
        "\n",
        "  def __getitem__(self, index):\n",
        "    img_file = X[index]\n",
        "    n = file_no(img_file)\n",
        "    emb_img = img_arr(self.root_dir,img_file)\n",
        "    mask_img = img_arr(self.root_dir, 'Mask_'+n+'.jpg')\n",
        "    if self.transform:\n",
        "      emb_img = self.transform(image=emb_img)['image']\n",
        "      mask_img = self.transform(image = mask_img)['image'] \n",
        "\n",
        "    return emb_img, mask_img\n",
        "    \n",
        "        \n"
      ]
    },
    {
      "cell_type": "code",
      "execution_count": 19,
      "metadata": {
        "id": "ryIMTfjtnSnI"
      },
      "outputs": [],
      "source": [
        "dataset = ImageDataset(path,X, transforms)\n",
        "loader = DataLoader(dataset, batch_size = BATCH_SIZE)\n"
      ]
    },
    {
      "cell_type": "code",
      "execution_count": 20,
      "metadata": {
        "colab": {
          "base_uri": "https://localhost:8080/",
          "height": 313
        },
        "id": "dTq-2pMcTVEe",
        "outputId": "ea779e3e-c815-48cd-d092-289e1b3c0add"
      },
      "outputs": [
        {
          "output_type": "stream",
          "name": "stdout",
          "text": [
            "torch.float64\n",
            "torch.Size([8, 4, 256, 256])\n",
            "tensor(1., dtype=torch.float64) tensor(0., dtype=torch.float64)\n",
            "torch.Size([8, 1, 256, 256])\n",
            "torch.float64\n",
            "torch.Size([8, 4, 256, 256])\n"
          ]
        },
        {
          "output_type": "display_data",
          "data": {
            "text/plain": [
              "<Figure size 432x288 with 2 Axes>"
            ],
            "image/png": "[encoded data removed]"
          },
          "metadata": {
            "needs_background": "light"
          }
        }
      ],
      "source": [
        "for idx, (x, y) in enumerate(loader):\n",
        "  print(x.dtype)\n",
        "  plt.subplot(1, 2, 1)\n",
        "  plt.imshow(x[0].permute(1,2,0))\n",
        "  plt.subplot(1, 2, 2)\n",
        "  print(y.shape)\n",
        "  print(torch.max(y), torch.min(y))\n",
        "  print(y[:,0,:,:].unsqueeze(1).shape)\n",
        "  plt.imshow(y[0].permute(1,2,0))\n",
        "  print(y.dtype)\n",
        "  print(y.shape)\n",
        "\n",
        "  break"
      ]
    },
    {
      "cell_type": "markdown",
      "metadata": {
        "id": "Aq1c1kJSXB1G"
      },
      "source": [
        "### Trainig of Model"
      ]
    },
    {
      "cell_type": "code",
      "execution_count": 23,
      "metadata": {
        "id": "gwres1mbTS7s"
      },
      "outputs": [],
      "source": [
        "unet = UNET(in_channels = CHANNELS_IMG , features=FEATURES).to(device)\n",
        "opt = optim.Adam(unet.parameters(), lr=LEARNING_RATE,betas=(0.5, 0.999))\n",
        "criterion = nn.BCELoss()\n"
      ]
    },
    {
      "cell_type": "code",
      "execution_count": 24,
      "metadata": {
        "colab": {
          "base_uri": "https://localhost:8080/"
        },
        "id": "KvLfSaexV_Xn",
        "outputId": "2283d278-2163-4162-bd01-be712228954e"
      },
      "outputs": [
        {
          "output_type": "stream",
          "name": "stdout",
          "text": [
            "Looking in indexes: https://pypi.org/simple, https://us-python.pkg.dev/colab-wheels/public/simple/\n",
            "Collecting wandb\n",
            "  Downloading wandb-0.13.1-py2.py3-none-any.whl (1.8 MB)\n",
            "\u001b[K     |████████████████████████████████| 1.8 MB 19.8 MB/s \n",
            "\u001b[?25hRequirement already satisfied: promise<3,>=2.0 in /usr/local/lib/python3.7/dist-packages (from wandb) (2.3)\n",
            "Collecting setproctitle\n",
            "  Downloading setproctitle-1.3.2-cp37-cp37m-manylinux_2_5_x86_64.manylinux1_x86_64.manylinux_2_17_x86_64.manylinux2014_x86_64.whl (30 kB)\n",
            "Requirement already satisfied: requests<3,>=2.0.0 in /usr/local/lib/python3.7/dist-packages (from wandb) (2.23.0)\n",
            "Collecting sentry-sdk>=1.0.0\n",
            "  Downloading sentry_sdk-1.9.5-py2.py3-none-any.whl (157 kB)\n",
            "\u001b[K     |████████████████████████████████| 157 kB 71.1 MB/s \n",
            "\u001b[?25hRequirement already satisfied: Click!=8.0.0,>=7.0 in /usr/local/lib/python3.7/dist-packages (from wandb) (7.1.2)\n",
            "Collecting GitPython>=1.0.0\n",
            "  Downloading GitPython-3.1.27-py3-none-any.whl (181 kB)\n",
            "\u001b[K     |████████████████████████████████| 181 kB 72.0 MB/s \n",
            "\u001b[?25hRequirement already satisfied: PyYAML in /usr/local/lib/python3.7/dist-packages (from wandb) (3.13)\n",
            "Requirement already satisfied: protobuf<4.0dev,>=3.12.0 in /usr/local/lib/python3.7/dist-packages (from wandb) (3.17.3)\n",
            "Collecting pathtools\n",
            "  Downloading pathtools-0.1.2.tar.gz (11 kB)\n",
            "Requirement already satisfied: six>=1.13.0 in /usr/local/lib/python3.7/dist-packages (from wandb) (1.15.0)\n",
            "Requirement already satisfied: setuptools in /usr/local/lib/python3.7/dist-packages (from wandb) (57.4.0)\n",
            "Collecting shortuuid>=0.5.0\n",
            "  Downloading shortuuid-1.0.9-py3-none-any.whl (9.4 kB)\n",
            "Collecting docker-pycreds>=0.4.0\n",
            "  Downloading docker_pycreds-0.4.0-py2.py3-none-any.whl (9.0 kB)\n",
            "Requirement already satisfied: psutil>=5.0.0 in /usr/local/lib/python3.7/dist-packages (from wandb) (5.4.8)\n",
            "Collecting gitdb<5,>=4.0.1\n",
            "  Downloading gitdb-4.0.9-py3-none-any.whl (63 kB)\n",
            "\u001b[K     |████████████████████████████████| 63 kB 2.1 MB/s \n",
            "\u001b[?25hRequirement already satisfied: typing-extensions>=3.7.4.3 in /usr/local/lib/python3.7/dist-packages (from GitPython>=1.0.0->wandb) (4.1.1)\n",
            "Collecting smmap<6,>=3.0.1\n",
            "  Downloading smmap-5.0.0-py3-none-any.whl (24 kB)\n",
            "Requirement already satisfied: chardet<4,>=3.0.2 in /usr/local/lib/python3.7/dist-packages (from requests<3,>=2.0.0->wandb) (3.0.4)\n",
            "Requirement already satisfied: idna<3,>=2.5 in /usr/local/lib/python3.7/dist-packages (from requests<3,>=2.0.0->wandb) (2.10)\n",
            "Requirement already satisfied: certifi>=2017.4.17 in /usr/local/lib/python3.7/dist-packages (from requests<3,>=2.0.0->wandb) (2022.6.15)\n",
            "Requirement already satisfied: urllib3!=1.25.0,!=1.25.1,<1.26,>=1.21.1 in /usr/local/lib/python3.7/dist-packages (from requests<3,>=2.0.0->wandb) (1.24.3)\n",
            "Collecting sentry-sdk>=1.0.0\n",
            "  Downloading sentry_sdk-1.9.4-py2.py3-none-any.whl (157 kB)\n",
            "\u001b[K     |████████████████████████████████| 157 kB 69.8 MB/s \n",
            "\u001b[?25h  Downloading sentry_sdk-1.9.3-py2.py3-none-any.whl (157 kB)\n",
            "\u001b[K     |████████████████████████████████| 157 kB 70.1 MB/s \n",
            "\u001b[?25h  Downloading sentry_sdk-1.9.2-py2.py3-none-any.whl (157 kB)\n",
            "\u001b[K     |████████████████████████████████| 157 kB 74.9 MB/s \n",
            "\u001b[?25h  Downloading sentry_sdk-1.9.1-py2.py3-none-any.whl (157 kB)\n",
            "\u001b[K     |████████████████████████████████| 157 kB 74.2 MB/s \n",
            "\u001b[?25h  Downloading sentry_sdk-1.9.0-py2.py3-none-any.whl (156 kB)\n",
            "\u001b[K     |████████████████████████████████| 156 kB 74.2 MB/s \n",
            "\u001b[?25hBuilding wheels for collected packages: pathtools\n",
            "  Building wheel for pathtools (setup.py) ... \u001b[?25l\u001b[?25hdone\n",
            "  Created wheel for pathtools: filename=pathtools-0.1.2-py3-none-any.whl size=8806 sha256=83dc563dc7cfb29df67c840c799735d3d461318a398ab393421567dd3131c7a7\n",
            "  Stored in directory: /root/.cache/pip/wheels/3e/31/09/fa59cef12cdcfecc627b3d24273699f390e71828921b2cbba2\n",
            "Successfully built pathtools\n",
            "Installing collected packages: smmap, gitdb, shortuuid, setproctitle, sentry-sdk, pathtools, GitPython, docker-pycreds, wandb\n",
            "Successfully installed GitPython-3.1.27 docker-pycreds-0.4.0 gitdb-4.0.9 pathtools-0.1.2 sentry-sdk-1.9.0 setproctitle-1.3.2 shortuuid-1.0.9 smmap-5.0.0 wandb-0.13.1\n"
          ]
        }
      ],
      "source": [
        "!pip install wandb"
      ]
    },
    {
      "cell_type": "code",
      "execution_count": 25,
      "metadata": {
        "id": "t7iSIgbMXNM9"
      },
      "outputs": [],
      "source": [
        "import wandb\n",
        "from torchvision.utils import make_grid"
      ]
    },
    {
      "cell_type": "code",
      "source": [
        "ALPHA = 0.5\n",
        "BETA = 0.5\n",
        "\n",
        "class TverskyLoss(nn.Module):\n",
        "    def __init__(self, weight=None, size_average=True):\n",
        "        super(TverskyLoss, self).__init__()\n",
        "\n",
        "    def forward(self, inputs, targets, smooth=1, alpha=ALPHA, beta=BETA):\n",
        "        \n",
        "        #comment out if your model contains a sigmoid or equivalent activation layer\n",
        "        # inputs = F.sigmoid(inputs)       \n",
        "        \n",
        "        #flatten label and prediction tensors\n",
        "        # inputs = inputs.view(-1)\n",
        "        # targets = targets.view(-1)\n",
        "\n",
        "        inputs = inputs.reshape(-1)\n",
        "        targets = targets.reshape(-1)\n",
        "        \n",
        "        #True Positives, False Positives & False Negatives\n",
        "        TP = (inputs * targets).sum()    \n",
        "        FP = ((1-targets) * inputs).sum()\n",
        "        FN = (targets * (1-inputs)).sum()\n",
        "       \n",
        "        Tversky = (TP + smooth) / (TP + alpha*FP + beta*FN + smooth)  \n",
        "        \n",
        "        return 1 - Tversky"
      ],
      "metadata": {
        "id": "LkhFM_VJwHvW"
      },
      "execution_count": 33,
      "outputs": []
    },
    {
      "cell_type": "code",
      "source": [
        "criterion = TverskyLoss()"
      ],
      "metadata": {
        "id": "MGrMFGSUwIyu"
      },
      "execution_count": 34,
      "outputs": []
    },
    {
      "cell_type": "code",
      "execution_count": null,
      "metadata": {
        "id": "KSi2dsgAXQTI",
        "colab": {
          "base_uri": "https://localhost:8080/"
        },
        "outputId": "51af46e6-ec5e-4097-c99e-2d0a33b5e294"
      },
      "outputs": [
        {
          "output_type": "execute_result",
          "data": {
            "text/plain": [
              "Unet(\n",
              "  (encoder): ResNetEncoder(\n",
              "    (conv1): Conv2d(3, 64, kernel_size=(7, 7), stride=(2, 2), padding=(3, 3), bias=False)\n",
              "    (bn1): BatchNorm2d(64, eps=1e-05, momentum=0.1, affine=True, track_running_stats=True)\n",
              "    (relu): ReLU(inplace=True)\n",
              "    (maxpool): MaxPool2d(kernel_size=3, stride=2, padding=1, dilation=1, ceil_mode=False)\n",
              "    (layer1): Sequential(\n",
              "      (0): BasicBlock(\n",
              "        (conv1): Conv2d(64, 64, kernel_size=(3, 3), stride=(1, 1), padding=(1, 1), bias=False)\n",
              "        (bn1): BatchNorm2d(64, eps=1e-05, momentum=0.1, affine=True, track_running_stats=True)\n",
              "        (relu): ReLU(inplace=True)\n",
              "        (conv2): Conv2d(64, 64, kernel_size=(3, 3), stride=(1, 1), padding=(1, 1), bias=False)\n",
              "        (bn2): BatchNorm2d(64, eps=1e-05, momentum=0.1, affine=True, track_running_stats=True)\n",
              "      )\n",
              "      (1): BasicBlock(\n",
              "        (conv1): Conv2d(64, 64, kernel_size=(3, 3), stride=(1, 1), padding=(1, 1), bias=False)\n",
              "        (bn1): BatchNorm2d(64, eps=1e-05, momentum=0.1, affine=True, track_running_stats=True)\n",
              "        (relu): ReLU(inplace=True)\n",
              "        (conv2): Conv2d(64, 64, kernel_size=(3, 3), stride=(1, 1), padding=(1, 1), bias=False)\n",
              "        (bn2): BatchNorm2d(64, eps=1e-05, momentum=0.1, affine=True, track_running_stats=True)\n",
              "      )\n",
              "      (2): BasicBlock(\n",
              "        (conv1): Conv2d(64, 64, kernel_size=(3, 3), stride=(1, 1), padding=(1, 1), bias=False)\n",
              "        (bn1): BatchNorm2d(64, eps=1e-05, momentum=0.1, affine=True, track_running_stats=True)\n",
              "        (relu): ReLU(inplace=True)\n",
              "        (conv2): Conv2d(64, 64, kernel_size=(3, 3), stride=(1, 1), padding=(1, 1), bias=False)\n",
              "        (bn2): BatchNorm2d(64, eps=1e-05, momentum=0.1, affine=True, track_running_stats=True)\n",
              "      )\n",
              "    )\n",
              "    (layer2): Sequential(\n",
              "      (0): BasicBlock(\n",
              "        (conv1): Conv2d(64, 128, kernel_size=(3, 3), stride=(2, 2), padding=(1, 1), bias=False)\n",
              "        (bn1): BatchNorm2d(128, eps=1e-05, momentum=0.1, affine=True, track_running_stats=True)\n",
              "        (relu): ReLU(inplace=True)\n",
              "        (conv2): Conv2d(128, 128, kernel_size=(3, 3), stride=(1, 1), padding=(1, 1), bias=False)\n",
              "        (bn2): BatchNorm2d(128, eps=1e-05, momentum=0.1, affine=True, track_running_stats=True)\n",
              "        (downsample): Sequential(\n",
              "          (0): Conv2d(64, 128, kernel_size=(1, 1), stride=(2, 2), bias=False)\n",
              "          (1): BatchNorm2d(128, eps=1e-05, momentum=0.1, affine=True, track_running_stats=True)\n",
              "        )\n",
              "      )\n",
              "      (1): BasicBlock(\n",
              "        (conv1): Conv2d(128, 128, kernel_size=(3, 3), stride=(1, 1), padding=(1, 1), bias=False)\n",
              "        (bn1): BatchNorm2d(128, eps=1e-05, momentum=0.1, affine=True, track_running_stats=True)\n",
              "        (relu): ReLU(inplace=True)\n",
              "        (conv2): Conv2d(128, 128, kernel_size=(3, 3), stride=(1, 1), padding=(1, 1), bias=False)\n",
              "        (bn2): BatchNorm2d(128, eps=1e-05, momentum=0.1, affine=True, track_running_stats=True)\n",
              "      )\n",
              "      (2): BasicBlock(\n",
              "        (conv1): Conv2d(128, 128, kernel_size=(3, 3), stride=(1, 1), padding=(1, 1), bias=False)\n",
              "        (bn1): BatchNorm2d(128, eps=1e-05, momentum=0.1, affine=True, track_running_stats=True)\n",
              "        (relu): ReLU(inplace=True)\n",
              "        (conv2): Conv2d(128, 128, kernel_size=(3, 3), stride=(1, 1), padding=(1, 1), bias=False)\n",
              "        (bn2): BatchNorm2d(128, eps=1e-05, momentum=0.1, affine=True, track_running_stats=True)\n",
              "      )\n",
              "      (3): BasicBlock(\n",
              "        (conv1): Conv2d(128, 128, kernel_size=(3, 3), stride=(1, 1), padding=(1, 1), bias=False)\n",
              "        (bn1): BatchNorm2d(128, eps=1e-05, momentum=0.1, affine=True, track_running_stats=True)\n",
              "        (relu): ReLU(inplace=True)\n",
              "        (conv2): Conv2d(128, 128, kernel_size=(3, 3), stride=(1, 1), padding=(1, 1), bias=False)\n",
              "        (bn2): BatchNorm2d(128, eps=1e-05, momentum=0.1, affine=True, track_running_stats=True)\n",
              "      )\n",
              "    )\n",
              "    (layer3): Sequential(\n",
              "      (0): BasicBlock(\n",
              "        (conv1): Conv2d(128, 256, kernel_size=(3, 3), stride=(2, 2), padding=(1, 1), bias=False)\n",
              "        (bn1): BatchNorm2d(256, eps=1e-05, momentum=0.1, affine=True, track_running_stats=True)\n",
              "        (relu): ReLU(inplace=True)\n",
              "        (conv2): Conv2d(256, 256, kernel_size=(3, 3), stride=(1, 1), padding=(1, 1), bias=False)\n",
              "        (bn2): BatchNorm2d(256, eps=1e-05, momentum=0.1, affine=True, track_running_stats=True)\n",
              "        (downsample): Sequential(\n",
              "          (0): Conv2d(128, 256, kernel_size=(1, 1), stride=(2, 2), bias=False)\n",
              "          (1): BatchNorm2d(256, eps=1e-05, momentum=0.1, affine=True, track_running_stats=True)\n",
              "        )\n",
              "      )\n",
              "      (1): BasicBlock(\n",
              "        (conv1): Conv2d(256, 256, kernel_size=(3, 3), stride=(1, 1), padding=(1, 1), bias=False)\n",
              "        (bn1): BatchNorm2d(256, eps=1e-05, momentum=0.1, affine=True, track_running_stats=True)\n",
              "        (relu): ReLU(inplace=True)\n",
              "        (conv2): Conv2d(256, 256, kernel_size=(3, 3), stride=(1, 1), padding=(1, 1), bias=False)\n",
              "        (bn2): BatchNorm2d(256, eps=1e-05, momentum=0.1, affine=True, track_running_stats=True)\n",
              "      )\n",
              "      (2): BasicBlock(\n",
              "        (conv1): Conv2d(256, 256, kernel_size=(3, 3), stride=(1, 1), padding=(1, 1), bias=False)\n",
              "        (bn1): BatchNorm2d(256, eps=1e-05, momentum=0.1, affine=True, track_running_stats=True)\n",
              "        (relu): ReLU(inplace=True)\n",
              "        (conv2): Conv2d(256, 256, kernel_size=(3, 3), stride=(1, 1), padding=(1, 1), bias=False)\n",
              "        (bn2): BatchNorm2d(256, eps=1e-05, momentum=0.1, affine=True, track_running_stats=True)\n",
              "      )\n",
              "      (3): BasicBlock(\n",
              "        (conv1): Conv2d(256, 256, kernel_size=(3, 3), stride=(1, 1), padding=(1, 1), bias=False)\n",
              "        (bn1): BatchNorm2d(256, eps=1e-05, momentum=0.1, affine=True, track_running_stats=True)\n",
              "        (relu): ReLU(inplace=True)\n",
              "        (conv2): Conv2d(256, 256, kernel_size=(3, 3), stride=(1, 1), padding=(1, 1), bias=False)\n",
              "        (bn2): BatchNorm2d(256, eps=1e-05, momentum=0.1, affine=True, track_running_stats=True)\n",
              "      )\n",
              "      (4): BasicBlock(\n",
              "        (conv1): Conv2d(256, 256, kernel_size=(3, 3), stride=(1, 1), padding=(1, 1), bias=False)\n",
              "        (bn1): BatchNorm2d(256, eps=1e-05, momentum=0.1, affine=True, track_running_stats=True)\n",
              "        (relu): ReLU(inplace=True)\n",
              "        (conv2): Conv2d(256, 256, kernel_size=(3, 3), stride=(1, 1), padding=(1, 1), bias=False)\n",
              "        (bn2): BatchNorm2d(256, eps=1e-05, momentum=0.1, affine=True, track_running_stats=True)\n",
              "      )\n",
              "      (5): BasicBlock(\n",
              "        (conv1): Conv2d(256, 256, kernel_size=(3, 3), stride=(1, 1), padding=(1, 1), bias=False)\n",
              "        (bn1): BatchNorm2d(256, eps=1e-05, momentum=0.1, affine=True, track_running_stats=True)\n",
              "        (relu): ReLU(inplace=True)\n",
              "        (conv2): Conv2d(256, 256, kernel_size=(3, 3), stride=(1, 1), padding=(1, 1), bias=False)\n",
              "        (bn2): BatchNorm2d(256, eps=1e-05, momentum=0.1, affine=True, track_running_stats=True)\n",
              "      )\n",
              "    )\n",
              "    (layer4): Sequential(\n",
              "      (0): BasicBlock(\n",
              "        (conv1): Conv2d(256, 512, kernel_size=(3, 3), stride=(2, 2), padding=(1, 1), bias=False)\n",
              "        (bn1): BatchNorm2d(512, eps=1e-05, momentum=0.1, affine=True, track_running_stats=True)\n",
              "        (relu): ReLU(inplace=True)\n",
              "        (conv2): Conv2d(512, 512, kernel_size=(3, 3), stride=(1, 1), padding=(1, 1), bias=False)\n",
              "        (bn2): BatchNorm2d(512, eps=1e-05, momentum=0.1, affine=True, track_running_stats=True)\n",
              "        (downsample): Sequential(\n",
              "          (0): Conv2d(256, 512, kernel_size=(1, 1), stride=(2, 2), bias=False)\n",
              "          (1): BatchNorm2d(512, eps=1e-05, momentum=0.1, affine=True, track_running_stats=True)\n",
              "        )\n",
              "      )\n",
              "      (1): BasicBlock(\n",
              "        (conv1): Conv2d(512, 512, kernel_size=(3, 3), stride=(1, 1), padding=(1, 1), bias=False)\n",
              "        (bn1): BatchNorm2d(512, eps=1e-05, momentum=0.1, affine=True, track_running_stats=True)\n",
              "        (relu): ReLU(inplace=True)\n",
              "        (conv2): Conv2d(512, 512, kernel_size=(3, 3), stride=(1, 1), padding=(1, 1), bias=False)\n",
              "        (bn2): BatchNorm2d(512, eps=1e-05, momentum=0.1, affine=True, track_running_stats=True)\n",
              "      )\n",
              "      (2): BasicBlock(\n",
              "        (conv1): Conv2d(512, 512, kernel_size=(3, 3), stride=(1, 1), padding=(1, 1), bias=False)\n",
              "        (bn1): BatchNorm2d(512, eps=1e-05, momentum=0.1, affine=True, track_running_stats=True)\n",
              "        (relu): ReLU(inplace=True)\n",
              "        (conv2): Conv2d(512, 512, kernel_size=(3, 3), stride=(1, 1), padding=(1, 1), bias=False)\n",
              "        (bn2): BatchNorm2d(512, eps=1e-05, momentum=0.1, affine=True, track_running_stats=True)\n",
              "      )\n",
              "    )\n",
              "  )\n",
              "  (decoder): UnetDecoder(\n",
              "    (center): Identity()\n",
              "    (blocks): ModuleList(\n",
              "      (0): DecoderBlock(\n",
              "        (conv1): Conv2dReLU(\n",
              "          (0): Conv2d(768, 256, kernel_size=(3, 3), stride=(1, 1), padding=(1, 1), bias=False)\n",
              "          (1): BatchNorm2d(256, eps=1e-05, momentum=0.1, affine=True, track_running_stats=True)\n",
              "          (2): ReLU(inplace=True)\n",
              "        )\n",
              "        (attention1): Attention(\n",
              "          (attention): Identity()\n",
              "        )\n",
              "        (conv2): Conv2dReLU(\n",
              "          (0): Conv2d(256, 256, kernel_size=(3, 3), stride=(1, 1), padding=(1, 1), bias=False)\n",
              "          (1): BatchNorm2d(256, eps=1e-05, momentum=0.1, affine=True, track_running_stats=True)\n",
              "          (2): ReLU(inplace=True)\n",
              "        )\n",
              "        (attention2): Attention(\n",
              "          (attention): Identity()\n",
              "        )\n",
              "      )\n",
              "      (1): DecoderBlock(\n",
              "        (conv1): Conv2dReLU(\n",
              "          (0): Conv2d(384, 128, kernel_size=(3, 3), stride=(1, 1), padding=(1, 1), bias=False)\n",
              "          (1): BatchNorm2d(128, eps=1e-05, momentum=0.1, affine=True, track_running_stats=True)\n",
              "          (2): ReLU(inplace=True)\n",
              "        )\n",
              "        (attention1): Attention(\n",
              "          (attention): Identity()\n",
              "        )\n",
              "        (conv2): Conv2dReLU(\n",
              "          (0): Conv2d(128, 128, kernel_size=(3, 3), stride=(1, 1), padding=(1, 1), bias=False)\n",
              "          (1): BatchNorm2d(128, eps=1e-05, momentum=0.1, affine=True, track_running_stats=True)\n",
              "          (2): ReLU(inplace=True)\n",
              "        )\n",
              "        (attention2): Attention(\n",
              "          (attention): Identity()\n",
              "        )\n",
              "      )\n",
              "      (2): DecoderBlock(\n",
              "        (conv1): Conv2dReLU(\n",
              "          (0): Conv2d(192, 64, kernel_size=(3, 3), stride=(1, 1), padding=(1, 1), bias=False)\n",
              "          (1): BatchNorm2d(64, eps=1e-05, momentum=0.1, affine=True, track_running_stats=True)\n",
              "          (2): ReLU(inplace=True)\n",
              "        )\n",
              "        (attention1): Attention(\n",
              "          (attention): Identity()\n",
              "        )\n",
              "        (conv2): Conv2dReLU(\n",
              "          (0): Conv2d(64, 64, kernel_size=(3, 3), stride=(1, 1), padding=(1, 1), bias=False)\n",
              "          (1): BatchNorm2d(64, eps=1e-05, momentum=0.1, affine=True, track_running_stats=True)\n",
              "          (2): ReLU(inplace=True)\n",
              "        )\n",
              "        (attention2): Attention(\n",
              "          (attention): Identity()\n",
              "        )\n",
              "      )\n",
              "      (3): DecoderBlock(\n",
              "        (conv1): Conv2dReLU(\n",
              "          (0): Conv2d(128, 32, kernel_size=(3, 3), stride=(1, 1), padding=(1, 1), bias=False)\n",
              "          (1): BatchNorm2d(32, eps=1e-05, momentum=0.1, affine=True, track_running_stats=True)\n",
              "          (2): ReLU(inplace=True)\n",
              "        )\n",
              "        (attention1): Attention(\n",
              "          (attention): Identity()\n",
              "        )\n",
              "        (conv2): Conv2dReLU(\n",
              "          (0): Conv2d(32, 32, kernel_size=(3, 3), stride=(1, 1), padding=(1, 1), bias=False)\n",
              "          (1): BatchNorm2d(32, eps=1e-05, momentum=0.1, affine=True, track_running_stats=True)\n",
              "          (2): ReLU(inplace=True)\n",
              "        )\n",
              "        (attention2): Attention(\n",
              "          (attention): Identity()\n",
              "        )\n",
              "      )\n",
              "      (4): DecoderBlock(\n",
              "        (conv1): Conv2dReLU(\n",
              "          (0): Conv2d(32, 16, kernel_size=(3, 3), stride=(1, 1), padding=(1, 1), bias=False)\n",
              "          (1): BatchNorm2d(16, eps=1e-05, momentum=0.1, affine=True, track_running_stats=True)\n",
              "          (2): ReLU(inplace=True)\n",
              "        )\n",
              "        (attention1): Attention(\n",
              "          (attention): Identity()\n",
              "        )\n",
              "        (conv2): Conv2dReLU(\n",
              "          (0): Conv2d(16, 16, kernel_size=(3, 3), stride=(1, 1), padding=(1, 1), bias=False)\n",
              "          (1): BatchNorm2d(16, eps=1e-05, momentum=0.1, affine=True, track_running_stats=True)\n",
              "          (2): ReLU(inplace=True)\n",
              "        )\n",
              "        (attention2): Attention(\n",
              "          (attention): Identity()\n",
              "        )\n",
              "      )\n",
              "    )\n",
              "  )\n",
              "  (segmentation_head): SegmentationHead(\n",
              "    (0): Conv2d(16, 4, kernel_size=(3, 3), stride=(1, 1), padding=(1, 1))\n",
              "    (1): Identity()\n",
              "    (2): Activation(\n",
              "      (activation): Identity()\n",
              "    )\n",
              "  )\n",
              ")"
            ]
          },
          "metadata": {},
          "execution_count": 28
        }
      ],
      "source": [
        "step = 0\n",
        "unet.train()"
      ]
    },
    {
      "cell_type": "code",
      "source": [
        "from torch.cuda import device_count\n",
        "\n",
        "wandb.init(\"task-02\")\n",
        "\n",
        "for epoch in range(EPOCHS):\n",
        "  for idx , (emb_img, mask_img) in enumerate(loader):\n",
        "    emb_img = emb_img.to(device)\n",
        "    mask_img = mask_img.float()\n",
        "    mask_img = mask_img.to(device)\n",
        "    predicted_mask = unet(emb_img.float())\n",
        "    # print(predicted_mask.shape)\n",
        "    # print(mask_img[:,0,:,:].unsqueeze(1).shape)\n",
        "    # print(mask_img[:,0,:,:].unsqueeze(1).dtype)\n",
        "    # # break\n",
        "    # print(torch.max(predicted_mask), torch.min(predicted_mask))\n",
        "\n",
        "    # print(torch.max(mask_img[:,0,:,:].unsqueeze(1)), torch.min(mask_img[:,0,:,:].unsqueeze(1)))\n",
        "\n",
        "    loss = criterion(predicted_mask, mask_img[:,0,:,:].unsqueeze(1))\n",
        "\n",
        "    unet.zero_grad()\n",
        "    loss.backward()\n",
        "    opt.step()\n",
        "    print(loss.item())\n",
        "\n",
        "  wandb.log({\"LOSS : \" : loss, 'epoch' : epoch})  \n",
        "  with torch.inference_mode():\n",
        "    for batch_idx, (emb_img, mask_img) in enumerate(loader):\n",
        "      emb_img = emb_img.to(device)\n",
        "      mask_img = mask_img.to(device)\n",
        "      predicted_mask = unet(emb_img.float())\n",
        "      grid1 = make_grid(emb_img)\n",
        "      predicted_mask = predicted_mask.to(device)\n",
        "      grid2 = make_grid(mask_img)\n",
        "      grid3 = make_grid(predicted_mask)\n",
        "      grid1 = wandb.Image(grid1, caption=\"Original Image\")\n",
        "      grid2 = wandb.Image(grid2, caption=\"Original Mask \")\n",
        "      grid3 = wandb.Image(grid3, caption=\"Predicted Mask\")\n",
        "      wandb.log({\"Original Image \": grid1})\n",
        "      wandb.log({\"Original Mask \": grid2})\n",
        "      wandb.log({\"Predicted Mask \" : grid3})"
      ],
      "metadata": {
        "colab": {
          "base_uri": "https://localhost:8080/",
          "height": 1000,
          "referenced_widgets": [
            "252f087fcb6c49479b38db430772b3fd",
            "d54c5f6b751e445991058df846ad9390",
            "52ec38b424644cbf8e812e9d30c97c45",
            "90dcb8703e70408baa4cfeddab91046a",
            "6228cd8143a14c6d852f105fdc52a83a",
            "37051ee74b22445c852153cf97d30e5e",
            "7bc765252fc3478da51fc59174e7c96e",
            "eb6071727806450c8e2d0b45a7de9e7f"
          ]
        },
        "id": "IIISJlJauKAB",
        "outputId": "16bd41d1-8353-4136-fd53-3fd6f8cc7de3"
      },
      "execution_count": null,
      "outputs": [
        {
          "output_type": "display_data",
          "data": {
            "text/plain": [
              "<IPython.core.display.HTML object>"
            ],
            "text/html": [
              "Finishing last run (ID:ru6h8opm) before initializing another..."
            ]
          },
          "metadata": {}
        },
        {
          "output_type": "display_data",
          "data": {
            "text/plain": [
              "<IPython.core.display.HTML object>"
            ],
            "text/html": [
              "Waiting for W&B process to finish... <strong style=\"color:green\">(success).</strong>"
            ]
          },
          "metadata": {}
        },
        {
          "output_type": "display_data",
          "data": {
            "text/plain": [
              "VBox(children=(Label(value='0.000 MB of 0.000 MB uploaded (0.000 MB deduped)\\r'), FloatProgress(value=1.0, max…"
            ],
            "application/vnd.jupyter.widget-view+json": {
              "version_major": 2,
              "version_minor": 0,
              "model_id": "252f087fcb6c49479b38db430772b3fd"
            }
          },
          "metadata": {}
        },
        {
          "output_type": "display_data",
          "data": {
            "text/plain": [
              "<IPython.core.display.HTML object>"
            ],
            "text/html": [
              "Synced <strong style=\"color:#cdcd00\">leafy-bee-49</strong>: <a href=\"https://wandb.ai/saquibali7/uncategorized/runs/ru6h8opm\" target=\"_blank\">https://wandb.ai/saquibali7/uncategorized/runs/ru6h8opm</a><br/>Synced 4 W&B file(s), 0 media file(s), 0 artifact file(s) and 0 other file(s)"
            ]
          },
          "metadata": {}
        },
        {
          "output_type": "display_data",
          "data": {
            "text/plain": [
              "<IPython.core.display.HTML object>"
            ],
            "text/html": [
              "Find logs at: <code>./wandb/run-20220816_174751-ru6h8opm/logs</code>"
            ]
          },
          "metadata": {}
        },
        {
          "output_type": "display_data",
          "data": {
            "text/plain": [
              "<IPython.core.display.HTML object>"
            ],
            "text/html": [
              "Successfully finished last run (ID:ru6h8opm). Initializing new run:<br/>"
            ]
          },
          "metadata": {}
        },
        {
          "output_type": "display_data",
          "data": {
            "text/plain": [
              "<IPython.core.display.HTML object>"
            ],
            "text/html": [
              "Tracking run with wandb version 0.13.1"
            ]
          },
          "metadata": {}
        },
        {
          "output_type": "display_data",
          "data": {
            "text/plain": [
              "<IPython.core.display.HTML object>"
            ],
            "text/html": [
              "Run data is saved locally in <code>/content/wandb/run-20220816_174811-1d6ycwip</code>"
            ]
          },
          "metadata": {}
        },
        {
          "output_type": "display_data",
          "data": {
            "text/plain": [
              "<IPython.core.display.HTML object>"
            ],
            "text/html": [
              "Syncing run <strong><a href=\"https://wandb.ai/saquibali7/uncategorized/runs/1d6ycwip\" target=\"_blank\">decent-oath-50</a></strong> to <a href=\"https://wandb.ai/saquibali7/uncategorized\" target=\"_blank\">Weights & Biases</a> (<a href=\"https://wandb.me/run\" target=\"_blank\">docs</a>)<br/>"
            ]
          },
          "metadata": {}
        },
        {
          "output_type": "stream",
          "name": "stdout",
          "text": [
            "0.7093994617462158\n",
            "0.6225615739822388\n",
            "0.5686445236206055\n",
            "0.49377942085266113\n",
            "0.41208553314208984\n",
            "0.3328782916069031\n",
            "0.305186927318573\n",
            "0.26007694005966187\n",
            "0.25584888458251953\n",
            "0.22811144590377808\n",
            "0.2510664463043213\n",
            "0.2316751480102539\n",
            "0.27875059843063354\n",
            "0.28882503509521484\n",
            "0.19315814971923828\n",
            "0.19174820184707642\n",
            "0.16209042072296143\n",
            "0.16377776861190796\n",
            "0.19672846794128418\n",
            "0.19368302822113037\n",
            "0.16798406839370728\n",
            "0.16283130645751953\n",
            "0.15085351467132568\n",
            "0.15474355220794678\n",
            "0.1411581039428711\n",
            "0.12612652778625488\n",
            "0.1503109335899353\n",
            "0.16600149869918823\n",
            "0.1359539031982422\n",
            "0.14071816205978394\n",
            "0.14816045761108398\n",
            "0.1711639165878296\n",
            "0.1335444450378418\n",
            "0.1649191975593567\n",
            "0.13328415155410767\n",
            "0.12885218858718872\n",
            "0.1098097562789917\n",
            "0.14236629009246826\n",
            "0.12769001722335815\n",
            "0.11725854873657227\n",
            "0.1500149369239807\n",
            "0.12545448541641235\n",
            "0.14297860860824585\n",
            "0.11227291822433472\n",
            "0.12097471952438354\n",
            "0.12876850366592407\n",
            "0.12761622667312622\n",
            "0.12063360214233398\n",
            "0.10961312055587769\n",
            "0.1302415132522583\n",
            "0.09010648727416992\n",
            "0.13607335090637207\n",
            "0.12422448396682739\n",
            "0.11319524049758911\n",
            "0.10640841722488403\n",
            "0.09739667177200317\n",
            "0.1266975998878479\n",
            "0.12949919700622559\n",
            "0.11892199516296387\n",
            "0.1136704683303833\n",
            "0.10545319318771362\n",
            "0.08784681558609009\n",
            "0.14819204807281494\n",
            "0.10656553506851196\n",
            "0.14919763803482056\n",
            "0.10570883750915527\n",
            "0.1102684736251831\n",
            "0.14877885580062866\n",
            "0.11154550313949585\n",
            "0.13689923286437988\n",
            "0.16791123151779175\n",
            "0.14347690343856812\n",
            "0.10295248031616211\n",
            "0.1183663010597229\n",
            "0.09348249435424805\n",
            "0.1076083779335022\n",
            "0.08719128370285034\n",
            "0.11461502313613892\n",
            "0.11110305786132812\n",
            "0.13196402788162231\n",
            "0.09577208757400513\n",
            "0.13019561767578125\n",
            "0.09846669435501099\n",
            "0.10287344455718994\n",
            "0.1079668402671814\n",
            "0.09188669919967651\n",
            "0.08679479360580444\n",
            "0.11003410816192627\n",
            "0.1443568468093872\n",
            "0.14369183778762817\n",
            "0.10463106632232666\n",
            "0.1044154167175293\n",
            "0.07612162828445435\n",
            "0.08562380075454712\n",
            "0.08152854442596436\n",
            "0.11588138341903687\n",
            "0.08927309513092041\n",
            "0.09038341045379639\n",
            "0.09100967645645142\n",
            "0.08550292253494263\n",
            "0.10198932886123657\n",
            "0.10529214143753052\n",
            "0.0928996205329895\n",
            "0.07473552227020264\n",
            "0.10205072164535522\n",
            "0.09180009365081787\n",
            "0.10255777835845947\n",
            "0.08507859706878662\n",
            "0.07948589324951172\n",
            "0.06556016206741333\n",
            "0.06869834661483765\n",
            "0.07600390911102295\n",
            "0.0840192437171936\n",
            "0.09179586172103882\n",
            "0.08341985940933228\n",
            "0.07327836751937866\n",
            "0.07464849948883057\n",
            "0.07252222299575806\n",
            "0.09220892190933228\n",
            "0.06609761714935303\n",
            "0.07437598705291748\n",
            "0.0901755690574646\n",
            "0.0769355297088623\n",
            "0.08431833982467651\n",
            "0.08497083187103271\n",
            "0.10397559404373169\n",
            "0.091266930103302\n",
            "0.08115839958190918\n",
            "0.09162294864654541\n",
            "0.07766032218933105\n",
            "0.08454036712646484\n",
            "0.07176417112350464\n",
            "0.06765538454055786\n",
            "0.07542300224304199\n",
            "0.08975553512573242\n",
            "0.12778955698013306\n",
            "0.09526693820953369\n",
            "0.07039487361907959\n",
            "0.09102070331573486\n",
            "0.07713943719863892\n",
            "0.0840654969215393\n",
            "0.10429191589355469\n",
            "0.08478820323944092\n",
            "0.0880744457244873\n",
            "0.11577332019805908\n",
            "0.09670639038085938\n",
            "0.10900914669036865\n",
            "0.08555281162261963\n",
            "0.10076797008514404\n",
            "0.06687194108963013\n",
            "0.09865736961364746\n",
            "0.061812639236450195\n",
            "0.07367706298828125\n",
            "0.07565593719482422\n",
            "0.07091659307479858\n",
            "0.0672118067741394\n",
            "0.09012341499328613\n",
            "0.09357178211212158\n",
            "0.09390038251876831\n",
            "0.10940128564834595\n",
            "0.08210420608520508\n",
            "0.09909427165985107\n",
            "0.12199312448501587\n",
            "0.12643760442733765\n",
            "0.12650424242019653\n",
            "0.07820218801498413\n",
            "0.12049031257629395\n",
            "0.1403200626373291\n",
            "0.09144049882888794\n",
            "0.26063865423202515\n",
            "0.27842068672180176\n",
            "0.31360501050949097\n",
            "0.37923985719680786\n",
            "0.32653677463531494\n",
            "0.27915823459625244\n",
            "0.2726113200187683\n",
            "0.39672428369522095\n",
            "0.18442702293395996\n",
            "0.2967212200164795\n",
            "0.2807353138923645\n",
            "0.2857416868209839\n",
            "0.32147008180618286\n",
            "0.6088353395462036\n",
            "0.5908883810043335\n",
            "0.7346872091293335\n",
            "0.33793044090270996\n",
            "0.0970909595489502\n",
            "0.10112547874450684\n",
            "0.07771092653274536\n",
            "0.10231274366378784\n",
            "0.08330166339874268\n",
            "0.07284510135650635\n",
            "0.11678427457809448\n",
            "0.08837991952896118\n",
            "0.10518229007720947\n",
            "0.12584847211837769\n",
            "0.0973430871963501\n",
            "0.07979947328567505\n",
            "0.08773237466812134\n",
            "0.10661637783050537\n",
            "0.11665141582489014\n",
            "0.09193313121795654\n",
            "0.12566083669662476\n",
            "0.09328371286392212\n",
            "0.07317113876342773\n",
            "0.0794287919998169\n",
            "0.08717542886734009\n",
            "0.08370023965835571\n",
            "0.08853805065155029\n",
            "0.07236373424530029\n",
            "0.11620545387268066\n",
            "0.11545932292938232\n",
            "0.0672752857208252\n",
            "0.09142345190048218\n",
            "0.09148114919662476\n",
            "0.10979151725769043\n",
            "0.08633077144622803\n",
            "0.06419342756271362\n",
            "0.09485304355621338\n",
            "0.08001363277435303\n",
            "0.08142292499542236\n",
            "0.1264113187789917\n",
            "0.06321555376052856\n",
            "0.12954264879226685\n",
            "0.08945590257644653\n",
            "0.09166717529296875\n",
            "0.0657774806022644\n",
            "0.0781012773513794\n",
            "0.0838976502418518\n",
            "0.10984116792678833\n",
            "0.06864356994628906\n",
            "0.09885954856872559\n",
            "0.08131986856460571\n",
            "0.06963926553726196\n",
            "0.05759161710739136\n",
            "0.06685173511505127\n",
            "0.05749356746673584\n",
            "0.05206179618835449\n",
            "0.06464272737503052\n",
            "0.062242329120635986\n",
            "0.06746357679367065\n",
            "0.07087773084640503\n",
            "0.06624597311019897\n",
            "0.055429816246032715\n",
            "0.06116604804992676\n",
            "0.0651591420173645\n",
            "0.054119884967803955\n",
            "0.045043110847473145\n",
            "0.06060218811035156\n",
            "0.07263165712356567\n",
            "0.0661698579788208\n",
            "0.06496548652648926\n",
            "0.06249195337295532\n",
            "0.06516474485397339\n",
            "0.07033085823059082\n",
            "0.060029029846191406\n",
            "0.05920004844665527\n",
            "0.07976549863815308\n",
            "0.0627744197845459\n",
            "0.0697893500328064\n",
            "0.04975825548171997\n",
            "0.07144725322723389\n",
            "0.05336713790893555\n",
            "0.07701849937438965\n",
            "0.05571812391281128\n",
            "0.049375712871551514\n",
            "0.055242300033569336\n",
            "0.07262241840362549\n",
            "0.06831389665603638\n",
            "0.05211019515991211\n",
            "0.07228237390518188\n",
            "0.072726309299469\n",
            "0.07926177978515625\n",
            "0.05114603042602539\n",
            "0.058215200901031494\n",
            "0.0624769926071167\n",
            "0.06212937831878662\n",
            "0.07812237739562988\n",
            "0.04782992601394653\n",
            "0.04659092426300049\n",
            "0.045335590839385986\n",
            "0.06067979335784912\n",
            "0.06071752309799194\n",
            "0.0537988543510437\n",
            "0.056349217891693115\n",
            "0.05052661895751953\n",
            "0.06548416614532471\n",
            "0.04831725358963013\n",
            "0.06186532974243164\n",
            "0.07560396194458008\n",
            "0.06710600852966309\n",
            "0.04717499017715454\n",
            "0.11373865604400635\n",
            "0.05494636297225952\n",
            "0.1339282989501953\n",
            "0.0696340799331665\n",
            "0.07041126489639282\n",
            "0.10731744766235352\n",
            "0.060534894466400146\n",
            "0.09470808506011963\n",
            "0.08690214157104492\n",
            "0.07133901119232178\n",
            "0.05559873580932617\n",
            "0.06143486499786377\n",
            "0.053496479988098145\n",
            "0.05921578407287598\n",
            "0.051219046115875244\n",
            "0.06580793857574463\n",
            "0.06787598133087158\n",
            "0.08617275953292847\n",
            "0.06632041931152344\n",
            "0.07694220542907715\n",
            "0.06373661756515503\n",
            "0.053775012493133545\n",
            "0.060362279415130615\n",
            "0.05848526954650879\n",
            "0.057251155376434326\n",
            "0.07668793201446533\n",
            "0.07590872049331665\n",
            "0.08888596296310425\n",
            "0.06463748216629028\n",
            "0.0696839690208435\n",
            "0.049134254455566406\n",
            "0.05111116170883179\n",
            "0.05292999744415283\n",
            "0.08361965417861938\n",
            "0.06653439998626709\n",
            "0.052851855754852295\n",
            "0.058870911598205566\n",
            "0.061702191829681396\n",
            "0.07707053422927856\n",
            "0.0756346583366394\n",
            "0.05902564525604248\n",
            "0.05434936285018921\n",
            "0.065032958984375\n",
            "0.0629306435585022\n",
            "0.0546412467956543\n",
            "0.05184429883956909\n",
            "0.04987996816635132\n",
            "0.04681938886642456\n",
            "0.04850780963897705\n",
            "0.05117148160934448\n",
            "0.06235009431838989\n",
            "0.06572097539901733\n",
            "0.059485554695129395\n",
            "0.04581362009048462\n",
            "0.0572667121887207\n",
            "0.05479663610458374\n",
            "0.06737011671066284\n",
            "0.04455077648162842\n",
            "0.05330425500869751\n",
            "0.062339186668395996\n",
            "0.05548858642578125\n",
            "0.054581284523010254\n",
            "0.06056869029998779\n",
            "0.08782821893692017\n",
            "0.06561881303787231\n"
          ]
        }
      ]
    },
    {
      "cell_type": "code",
      "execution_count": null,
      "metadata": {
        "id": "KeIByZCcjj5K"
      },
      "outputs": [],
      "source": [
        "\n",
        "%cd '/content/drive/MyDrive/model'"
      ]
    },
    {
      "cell_type": "code",
      "execution_count": null,
      "metadata": {
        "id": "hqeZOd0tIaK0"
      },
      "outputs": [],
      "source": [
        "torch.save(unet.state_dict(), './unet03.pth')"
      ]
    },
    {
      "cell_type": "code",
      "execution_count": null,
      "metadata": {
        "id": "vPniD2bCIewj"
      },
      "outputs": [],
      "source": [
        ""
      ]
    }
  ],
  "metadata": {
    "colab": {
      "collapsed_sections": [],
      "name": "Copy of task02.ipynb",
      "provenance": [],
      "authorship_tag": "ABX9TyNtvN56QUFO7kSj8U2A8L6q",
      "include_colab_link": true
    },
    "gpuClass": "standard",
    "kernelspec": {
      "display_name": "Python 3",
      "name": "python3"
    },
    "language_info": {
      "name": "python"
    },
    "widgets": {
      "application/vnd.jupyter.widget-state+json": {
        "252f087fcb6c49479b38db430772b3fd": {
          "model_module": "@jupyter-widgets/controls",
          "model_name": "VBoxModel",
          "model_module_version": "1.5.0",
          "state": {
            "_dom_classes": [],
            "_model_module": "@jupyter-widgets/controls",
            "_model_module_version": "1.5.0",
            "_model_name": "VBoxModel",
            "_view_count": null,
            "_view_module": "@jupyter-widgets/controls",
            "_view_module_version": "1.5.0",
            "_view_name": "VBoxView",
            "box_style": "",
            "children": [
              "IPY_MODEL_d54c5f6b751e445991058df846ad9390",
              "IPY_MODEL_52ec38b424644cbf8e812e9d30c97c45"
            ],
            "layout": "IPY_MODEL_90dcb8703e70408baa4cfeddab91046a"
          }
        },
        "d54c5f6b751e445991058df846ad9390": {
          "model_module": "@jupyter-widgets/controls",
          "model_name": "LabelModel",
          "model_module_version": "1.5.0",
          "state": {
            "_dom_classes": [],
            "_model_module": "@jupyter-widgets/controls",
            "_model_module_version": "1.5.0",
            "_model_name": "LabelModel",
            "_view_count": null,
            "_view_module": "@jupyter-widgets/controls",
            "_view_module_version": "1.5.0",
            "_view_name": "LabelView",
            "description": "",
            "description_tooltip": null,
            "layout": "IPY_MODEL_6228cd8143a14c6d852f105fdc52a83a",
            "placeholder": "​",
            "style": "IPY_MODEL_37051ee74b22445c852153cf97d30e5e",
            "value": "0.008 MB of 0.008 MB uploaded (0.000 MB deduped)\r"
          }
        },
        "52ec38b424644cbf8e812e9d30c97c45": {
          "model_module": "@jupyter-widgets/controls",
          "model_name": "FloatProgressModel",
          "model_module_version": "1.5.0",
          "state": {
            "_dom_classes": [],
            "_model_module": "@jupyter-widgets/controls",
            "_model_module_version": "1.5.0",
            "_model_name": "FloatProgressModel",
            "_view_count": null,
            "_view_module": "@jupyter-widgets/controls",
            "_view_module_version": "1.5.0",
            "_view_name": "ProgressView",
            "bar_style": "",
            "description": "",
            "description_tooltip": null,
            "layout": "IPY_MODEL_7bc765252fc3478da51fc59174e7c96e",
            "max": 1,
            "min": 0,
            "orientation": "horizontal",
            "style": "IPY_MODEL_eb6071727806450c8e2d0b45a7de9e7f",
            "value": 1
          }
        },
        "90dcb8703e70408baa4cfeddab91046a": {
          "model_module": "@jupyter-widgets/base",
          "model_name": "LayoutModel",
          "model_module_version": "1.2.0",
          "state": {
            "_model_module": "@jupyter-widgets/base",
            "_model_module_version": "1.2.0",
            "_model_name": "LayoutModel",
            "_view_count": null,
            "_view_module": "@jupyter-widgets/base",
            "_view_module_version": "1.2.0",
            "_view_name": "LayoutView",
            "align_content": null,
            "align_items": null,
            "align_self": null,
            "border": null,
            "bottom": null,
            "display": null,
            "flex": null,
            "flex_flow": null,
            "grid_area": null,
            "grid_auto_columns": null,
            "grid_auto_flow": null,
            "grid_auto_rows": null,
            "grid_column": null,
            "grid_gap": null,
            "grid_row": null,
            "grid_template_areas": null,
            "grid_template_columns": null,
            "grid_template_rows": null,
            "height": null,
            "justify_content": null,
            "justify_items": null,
            "left": null,
            "margin": null,
            "max_height": null,
            "max_width": null,
            "min_height": null,
            "min_width": null,
            "object_fit": null,
            "object_position": null,
            "order": null,
            "overflow": null,
            "overflow_x": null,
            "overflow_y": null,
            "padding": null,
            "right": null,
            "top": null,
            "visibility": null,
            "width": null
          }
        },
        "6228cd8143a14c6d852f105fdc52a83a": {
          "model_module": "@jupyter-widgets/base",
          "model_name": "LayoutModel",
          "model_module_version": "1.2.0",
          "state": {
            "_model_module": "@jupyter-widgets/base",
            "_model_module_version": "1.2.0",
            "_model_name": "LayoutModel",
            "_view_count": null,
            "_view_module": "@jupyter-widgets/base",
            "_view_module_version": "1.2.0",
            "_view_name": "LayoutView",
            "align_content": null,
            "align_items": null,
            "align_self": null,
            "border": null,
            "bottom": null,
            "display": null,
            "flex": null,
            "flex_flow": null,
            "grid_area": null,
            "grid_auto_columns": null,
            "grid_auto_flow": null,
            "grid_auto_rows": null,
            "grid_column": null,
            "grid_gap": null,
            "grid_row": null,
            "grid_template_areas": null,
            "grid_template_columns": null,
            "grid_template_rows": null,
            "height": null,
            "justify_content": null,
            "justify_items": null,
            "left": null,
            "margin": null,
            "max_height": null,
            "max_width": null,
            "min_height": null,
            "min_width": null,
            "object_fit": null,
            "object_position": null,
            "order": null,
            "overflow": null,
            "overflow_x": null,
            "overflow_y": null,
            "padding": null,
            "right": null,
            "top": null,
            "visibility": null,
            "width": null
          }
        },
        "37051ee74b22445c852153cf97d30e5e": {
          "model_module": "@jupyter-widgets/controls",
          "model_name": "DescriptionStyleModel",
          "model_module_version": "1.5.0",
          "state": {
            "_model_module": "@jupyter-widgets/controls",
            "_model_module_version": "1.5.0",
            "_model_name": "DescriptionStyleModel",
            "_view_count": null,
            "_view_module": "@jupyter-widgets/base",
            "_view_module_version": "1.2.0",
            "_view_name": "StyleView",
            "description_width": ""
          }
        },
        "7bc765252fc3478da51fc59174e7c96e": {
          "model_module": "@jupyter-widgets/base",
          "model_name": "LayoutModel",
          "model_module_version": "1.2.0",
          "state": {
            "_model_module": "@jupyter-widgets/base",
            "_model_module_version": "1.2.0",
            "_model_name": "LayoutModel",
            "_view_count": null,
            "_view_module": "@jupyter-widgets/base",
            "_view_module_version": "1.2.0",
            "_view_name": "LayoutView",
            "align_content": null,
            "align_items": null,
            "align_self": null,
            "border": null,
            "bottom": null,
            "display": null,
            "flex": null,
            "flex_flow": null,
            "grid_area": null,
            "grid_auto_columns": null,
            "grid_auto_flow": null,
            "grid_auto_rows": null,
            "grid_column": null,
            "grid_gap": null,
            "grid_row": null,
            "grid_template_areas": null,
            "grid_template_columns": null,
            "grid_template_rows": null,
            "height": null,
            "justify_content": null,
            "justify_items": null,
            "left": null,
            "margin": null,
            "max_height": null,
            "max_width": null,
            "min_height": null,
            "min_width": null,
            "object_fit": null,
            "object_position": null,
            "order": null,
            "overflow": null,
            "overflow_x": null,
            "overflow_y": null,
            "padding": null,
            "right": null,
            "top": null,
            "visibility": null,
            "width": null
          }
        },
        "eb6071727806450c8e2d0b45a7de9e7f": {
          "model_module": "@jupyter-widgets/controls",
          "model_name": "ProgressStyleModel",
          "model_module_version": "1.5.0",
          "state": {
            "_model_module": "@jupyter-widgets/controls",
            "_model_module_version": "1.5.0",
            "_model_name": "ProgressStyleModel",
            "_view_count": null,
            "_view_module": "@jupyter-widgets/base",
            "_view_module_version": "1.2.0",
            "_view_name": "StyleView",
            "bar_color": null,
            "description_width": ""
          }
        }
      }
    },
    "accelerator": "GPU"
  },
  "nbformat": 4,
  "nbformat_minor": 0
}