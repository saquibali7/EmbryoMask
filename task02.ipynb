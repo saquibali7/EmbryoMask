{
  "cells": [
    {
      "cell_type": "markdown",
      "metadata": {
        "id": "view-in-github",
        "colab_type": "text"
      },
      "source": [
        "<a href=\"https://colab.research.google.com/github/saquibali7/Image_Segmentation/blob/main/task02.ipynb\" target=\"_parent\"><img src=\"https://colab.research.google.com/assets/colab-badge.svg\" alt=\"Open In Colab\"/></a>"
      ]
    },
    {
      "cell_type": "code",
      "execution_count": null,
      "metadata": {
        "id": "nvKURn1Cvxg3"
      },
      "outputs": [],
      "source": [
        "import os\n",
        "import numpy as np\n",
        "import pandas as pd\n",
        "import matplotlib.pyplot as plt\n",
        "from numpy.random import randint\n",
        "from PIL import Image"
      ]
    },
    {
      "cell_type": "code",
      "execution_count": null,
      "metadata": {
        "id": "flJW-phbaVjA"
      },
      "outputs": [],
      "source": [
        "import torch\n",
        "import torch.nn as nn\n",
        "import torchvision\n",
        "import torch.optim as optim\n",
        "from torch.utils.data import DataLoader\n",
        "from torch.utils.data import Dataset\n",
        "import torchvision.transforms as transforms\n",
        "from torchvision.io import read_image\n",
        "from torchvision.utils import save_image"
      ]
    },
    {
      "cell_type": "code",
      "execution_count": null,
      "metadata": {
        "id": "-xjmYu-pas3u",
        "colab": {
          "base_uri": "https://localhost:8080/"
        },
        "outputId": "ed78b4cb-dca6-4c79-d794-b88718e2b073"
      },
      "outputs": [
        {
          "output_type": "stream",
          "name": "stdout",
          "text": [
            "Mounted at /content/drive\n"
          ]
        }
      ],
      "source": [
        "from google.colab import drive\n",
        "drive.mount('/content/drive')"
      ]
    },
    {
      "cell_type": "markdown",
      "source": [
        "### UNET MODEL"
      ],
      "metadata": {
        "id": "1BlZ0779WhdB"
      }
    },
    {
      "cell_type": "code",
      "source": [
        "class CNNBlocks(nn.Module):\n",
        "  def __init__(self, in_channels, out_channels, down=True, act=\"relu\", use_dropout=False):\n",
        "    super(CNNBlocks, self).__init__()\n",
        "    self.conv = nn.Sequential(\n",
        "        nn.Conv2d(in_channels, out_channels, 4, 2, 1, bias=False, padding_mode=\"reflect\")\n",
        "        if down\n",
        "        else nn.ConvTranspose2d(in_channels, out_channels, 4, 2, 1, bias = False),\n",
        "        nn.BatchNorm2d(out_channels),\n",
        "        nn.ReLU() if act==\"relu\" else nn.LeakyReLU(0.2),\n",
        "    )\n",
        "\n",
        "    self.use_dropout= use_dropout\n",
        "    self.dropout = nn.Dropout(0.5)\n",
        "    self.down = down\n",
        "\n",
        "  def forward(self, x):\n",
        "      x = self.conv(x)\n",
        "      return self.dropout(x) if self.use_dropout else x"
      ],
      "metadata": {
        "id": "nl4PoJ3rWU6i"
      },
      "execution_count": null,
      "outputs": []
    },
    {
      "cell_type": "code",
      "source": [
        "class UNET(nn.Module):\n",
        "  def __init__(self, in_channels, features=64):\n",
        "    super().__init__()\n",
        "    self.initial_down = nn.Sequential(\n",
        "        nn.Conv2d(in_channels, features, 4, 2, 1, padding_mode=\"reflect\"),\n",
        "        nn.LeakyReLU(0.2),\n",
        "    )\n",
        "\n",
        "    self.down1 = CNNBlocks(features, features*2, down=True, act=\"leaky\", use_dropout=False)\n",
        "    self.down2 = CNNBlocks(features*2, features*4, down=True, act=\"leaky\", use_dropout=False)\n",
        "    self.down3 = CNNBlocks(features*4, features*8, down=True, act=\"leaky\", use_dropout=False)\n",
        "    self.down4 = CNNBlocks(features*8, features*8, down=True, act=\"leaky\", use_dropout=False)\n",
        "    self.down5 = CNNBlocks(features*8, features*8, down=True, act=\"leaky\", use_dropout=False)\n",
        "    self.down6 = CNNBlocks(features*8, features*8, down=True, act=\"leaky\", use_dropout=False)\n",
        "    self.bottleneck = nn.Sequential(\n",
        "        nn.Conv2d(features*8, features*8, 4, 2, 1),\n",
        "        nn.ReLU(),\n",
        "    )\n",
        "\n",
        "    self.up1 = CNNBlocks(features*8, features*8, down=False, act=\"relu\", use_dropout=True)\n",
        "    self.up2 = CNNBlocks(features*8*2, features*8, down=False, act=\"relu\", use_dropout=True)\n",
        "    self.up3 = CNNBlocks(features*8*2, features*8, down=False, act=\"relu\", use_dropout=True)\n",
        "    self.up4 = CNNBlocks(features*8*2, features*8, down=False, act=\"relu\", use_dropout=False)\n",
        "    self.up5 = CNNBlocks(features*8*2, features*4, down=False, act=\"relu\", use_dropout=False)\n",
        "    self.up6 = CNNBlocks(features*4*2, features*2, down=False, act=\"relu\", use_dropout=False)\n",
        "    self.up7 = CNNBlocks(features*2*2, features, down=False, act=\"relu\", use_dropout=False)\n",
        "    self.finalup = nn.Sequential(\n",
        "        nn.ConvTranspose2d(features*2, in_channels , 4, 2, 1),\n",
        "        nn.Tanh(),\n",
        "    )\n",
        "\n",
        "\n",
        "  def forward(self , x):\n",
        "      d1 = self.initial_down(x)\n",
        "      d2 = self.down1(d1)\n",
        "      d3 = self.down2(d2)\n",
        "      d4 = self.down3(d3)\n",
        "      d5 = self.down4(d4)\n",
        "      d6 = self.down5(d5)\n",
        "      d7 = self.down6(d6)\n",
        "      bottleneck = self.bottleneck(d7)\n",
        "      up1 = self.up1(bottleneck)\n",
        "      up2 = self.up2(torch.cat([up1,d7], 1))\n",
        "      up3 = self.up3(torch.cat([up2,d6], 1))\n",
        "      up4 = self.up4(torch.cat([up3,d5], 1))\n",
        "      up5 = self.up5(torch.cat([up4,d4], 1))\n",
        "      up6 = self.up6(torch.cat([up5,d3], 1))\n",
        "      up7 = self.up7(torch.cat([up6,d2], 1))\n",
        "      up8 = self.finalup(torch.cat([up7, d1], 1))\n",
        "      return up8"
      ],
      "metadata": {
        "id": "ye_qN-vwWZUW"
      },
      "execution_count": null,
      "outputs": []
    },
    {
      "cell_type": "code",
      "source": [
        "in_channels = 3\n",
        "features = 64\n",
        "gen = UNET(in_channels = in_channels, features=features)\n",
        "x= torch.rand((8,3,256,256))\n",
        "out = gen(x)\n",
        "print(out.shape)"
      ],
      "metadata": {
        "colab": {
          "base_uri": "https://localhost:8080/"
        },
        "id": "4FshMsr6WfPa",
        "outputId": "73e0ea5c-b4c2-46f0-9481-2b153f37094b"
      },
      "execution_count": null,
      "outputs": [
        {
          "output_type": "stream",
          "name": "stdout",
          "text": [
            "torch.Size([8, 3, 256, 256])\n"
          ]
        }
      ]
    },
    {
      "cell_type": "markdown",
      "source": [
        "### Data Preprocessing"
      ],
      "metadata": {
        "id": "d2X1ro_5Wm0P"
      }
    },
    {
      "cell_type": "code",
      "source": [
        "from torch.utils.data import Dataset, DataLoader\n",
        "from torchvision.utils import save_image\n",
        "import albumentations as A\n",
        "from albumentations.pytorch import ToTensorV2"
      ],
      "metadata": {
        "id": "bZkqacL2W2jf"
      },
      "execution_count": null,
      "outputs": []
    },
    {
      "cell_type": "code",
      "source": [
        "CHANNELS_IMG = 3\n",
        "IMAGE_SIZE = 256\n",
        "LEARNING_RATE = 2e-4\n",
        "EPOCHS = 50\n",
        "FEATURES= 64\n",
        "BATCH_SIZE=16\n",
        "device = torch.device(\"cuda\" if torch.cuda.is_available() else \"cpu\")"
      ],
      "metadata": {
        "id": "cbkjLOqmZHpB"
      },
      "execution_count": null,
      "outputs": []
    },
    {
      "cell_type": "code",
      "execution_count": null,
      "metadata": {
        "colab": {
          "base_uri": "https://localhost:8080/"
        },
        "id": "AU7tO_rHaukI",
        "outputId": "ec63819e-7d38-441a-989d-1325058a9ad5"
      },
      "outputs": [
        {
          "output_type": "stream",
          "name": "stdout",
          "text": [
            "3668\n"
          ]
        }
      ],
      "source": [
        "path = '/content/drive/MyDrive/Data_Embryo_Mask'\n",
        "files = os.listdir(path)\n",
        "print(len(files))"
      ]
    },
    {
      "cell_type": "code",
      "execution_count": null,
      "metadata": {
        "colab": {
          "base_uri": "https://localhost:8080/"
        },
        "id": "paOEfKgdWQFQ",
        "outputId": "7a4f22b0-8fda-409f-af7f-f994686d4f38"
      },
      "outputs": [
        {
          "output_type": "stream",
          "name": "stdout",
          "text": [
            "Mask_4.jpg\n"
          ]
        }
      ],
      "source": [
        "print(files[3009])"
      ]
    },
    {
      "cell_type": "code",
      "execution_count": null,
      "metadata": {
        "id": "e-h9B3j0bpT4"
      },
      "outputs": [],
      "source": [
        "def file_no(file_name):\n",
        "  file_type = file_name.split(\"_\")\n",
        "  file_n = file_type[0]\n",
        "  file_no = file_type[1].split(\".\")\n",
        "  file_number = file_no[0]\n",
        "  return file_number"
      ]
    },
    {
      "cell_type": "code",
      "execution_count": null,
      "metadata": {
        "id": "X4pUdn9dip7t"
      },
      "outputs": [],
      "source": [
        "def img_arr(path, file_name):\n",
        "  img = Image.open(os.path.join(path,file_name))\n",
        "  img = np.array(img)/255.0\n",
        "  if(file_name[0]=='M'):\n",
        "    img = img[:,:,:3]\n",
        "  return img"
      ]
    },
    {
      "cell_type": "code",
      "execution_count": null,
      "metadata": {
        "colab": {
          "base_uri": "https://localhost:8080/",
          "height": 201
        },
        "id": "RFFDx4rOb4ln",
        "outputId": "2263d8c8-c1a8-4e86-b2e2-a18e43dd24da"
      },
      "outputs": [
        {
          "output_type": "stream",
          "name": "stdout",
          "text": [
            "(500, 500, 3)\n"
          ]
        },
        {
          "output_type": "display_data",
          "data": {
            "text/plain": [
              "<Figure size 432x288 with 2 Axes>"
            ],
            "image/png": "[encoded data removed]"
          },
          "metadata": {
            "needs_background": "light"
          }
        }
      ],
      "source": [
        "ix = randint(0, len(files))\n",
        "file_name = files[ix]\n",
        "n=file_no(file_name)\n",
        "if(file_name[0]=='M'):\n",
        "  mask_img = img_arr(path,file_name)\n",
        "  emb_img = img_arr(path,'Embryo_'+n+'.jpg')\n",
        "else :\n",
        "  emb_img = img_arr(path, file_name)\n",
        "  mask_img = img_arr(path,'Mask_'+n+'.jpg')\n",
        "\n",
        "img = [emb_img, mask_img[:,:,:3]]\n",
        "print(mask_img.shape)\n",
        "# titles = [\"Embryo\", \"Mask\"]\n",
        "for i in range(2):\n",
        "  plt.subplot(1,2,i+1)\n",
        "  plt.imshow(img[i])\n",
        "  # plt.title(titles[i])\n",
        "  plt.axis(\"off\")  \n",
        "  \n",
        "\n",
        "\n"
      ]
    },
    {
      "cell_type": "code",
      "execution_count": null,
      "metadata": {
        "id": "Pma1_QylLKjw",
        "colab": {
          "base_uri": "https://localhost:8080/"
        },
        "outputId": "d8487837-8c3e-43da-a66d-47cf077315ec"
      },
      "outputs": [
        {
          "output_type": "stream",
          "name": "stdout",
          "text": [
            "Image not opened!!\n"
          ]
        }
      ],
      "source": [
        "X = []\n",
        "\n",
        "for file in files:\n",
        "  if(file[0]=='M'):\n",
        "    continue\n",
        "  else :\n",
        "    try:\n",
        "      img = Image.open(os.path.join(path, file))\n",
        "      emb_img =  img_arr(path, file)\n",
        "      n = file_no(file)\n",
        "      mask_img = img_arr(path, 'Mask_'+n+'.jpg')\n",
        "      X.append(file)\n",
        "    except:\n",
        "      print(\"Image not opened!!\")"
      ]
    },
    {
      "cell_type": "code",
      "source": [
        "import albumentations as A\n",
        "from albumentations.pytorch import ToTensorV2\n",
        "\n",
        "transforms = A.Compose(\n",
        "    [   \n",
        "        A.Resize(IMAGE_SIZE, IMAGE_SIZE),\n",
        "        ToTensorV2(),\n",
        "    ]\n",
        ")"
      ],
      "metadata": {
        "id": "MSJWkGz7YaGH"
      },
      "execution_count": null,
      "outputs": []
    },
    {
      "cell_type": "code",
      "source": [
        "def preprocess_mask(mask):\n",
        "  mask = np.array(mask,dtype=np.float32)\n",
        "  mask = mask/255.0\n",
        "  mask[mask == 0.0] = 0.0\n",
        "  mask[mask != 0.0] = 1.0\n",
        "\n",
        "  return mask"
      ],
      "metadata": {
        "id": "Re2BDoI5iwlq"
      },
      "execution_count": null,
      "outputs": []
    },
    {
      "cell_type": "code",
      "execution_count": null,
      "metadata": {
        "id": "RL8theUdpCis"
      },
      "outputs": [],
      "source": [
        "class ImageDataset(Dataset):\n",
        "  def __init__(self, root_dir, X, transforms=None):\n",
        "    self.root_dir = root_dir\n",
        "    self.files = os.listdir(self.root_dir)\n",
        "    self.transform = transforms\n",
        "\n",
        "  def __len__(self):\n",
        "    return len(X)\n",
        "\n",
        "  def __getitem__(self, index):\n",
        "    img_file = X[index]\n",
        "    n = file_no(img_file)\n",
        "    emb_img = img_arr(self.root_dir,img_file)\n",
        "    mask_img = img_arr(self.root_dir, 'Mask_'+n+'.jpg')\n",
        "    if self.transform:\n",
        "      emb_img = self.transform(image=emb_img)['image']\n",
        "      mask_img = self.transform(image = mask_img)['image'] \n",
        "\n",
        "    return emb_img, mask_img\n",
        "    \n",
        "        \n"
      ]
    },
    {
      "cell_type": "code",
      "execution_count": null,
      "metadata": {
        "id": "ryIMTfjtnSnI"
      },
      "outputs": [],
      "source": [
        "dataset = ImageDataset(path,X, transforms)\n",
        "loader = DataLoader(dataset, batch_size = 16)\n"
      ]
    },
    {
      "cell_type": "code",
      "source": [
        "for idx, (x, y) in enumerate(loader):\n",
        "  print(x.dtype)\n",
        "  plt.subplot(1, 2, 1)\n",
        "  plt.imshow(x[0].permute(1,2,0))\n",
        "  plt.subplot(1, 2, 2)\n",
        "  print(y.shape)\n",
        "  plt.imshow(y[0].permute(1,2,0))\n",
        "  print(y.dtype)\n",
        "\n",
        "  break"
      ],
      "metadata": {
        "colab": {
          "base_uri": "https://localhost:8080/",
          "height": 259
        },
        "id": "dTq-2pMcTVEe",
        "outputId": "cfd94bf1-a6cd-437e-a301-76e32cdbd419"
      },
      "execution_count": null,
      "outputs": [
        {
          "output_type": "stream",
          "name": "stdout",
          "text": [
            "torch.float64\n",
            "torch.Size([16, 3, 256, 256])\n",
            "torch.float64\n"
          ]
        },
        {
          "output_type": "display_data",
          "data": {
            "text/plain": [
              "<Figure size 432x288 with 2 Axes>"
            ],
            "image/png": "[encoded data removed]"
          },
          "metadata": {
            "needs_background": "light"
          }
        }
      ]
    },
    {
      "cell_type": "markdown",
      "source": [
        "### Trainig of Model"
      ],
      "metadata": {
        "id": "Aq1c1kJSXB1G"
      }
    },
    {
      "cell_type": "code",
      "source": [
        "unet = UNET(in_channels = CHANNELS_IMG , features=FEATURES).to(device)\n",
        "opt = optim.Adam(gen.parameters(), lr=LEARNING_RATE,betas=(0.5, 0.999))\n",
        "criterion = nn.CrossEntropyLoss()"
      ],
      "metadata": {
        "id": "gwres1mbTS7s"
      },
      "execution_count": null,
      "outputs": []
    },
    {
      "cell_type": "code",
      "source": [
        "!pip install wandb"
      ],
      "metadata": {
        "colab": {
          "base_uri": "https://localhost:8080/"
        },
        "id": "KvLfSaexV_Xn",
        "outputId": "e88ae3ff-03b3-4299-fd2a-821691f4b582"
      },
      "execution_count": null,
      "outputs": [
        {
          "output_type": "stream",
          "name": "stdout",
          "text": [
            "Looking in indexes: https://pypi.org/simple, https://us-python.pkg.dev/colab-wheels/public/simple/\n",
            "Collecting wandb\n",
            "  Downloading wandb-0.13.1-py2.py3-none-any.whl (1.8 MB)\n",
            "\u001b[K     |████████████████████████████████| 1.8 MB 5.1 MB/s \n",
            "\u001b[?25hCollecting pathtools\n",
            "  Downloading pathtools-0.1.2.tar.gz (11 kB)\n",
            "Requirement already satisfied: promise<3,>=2.0 in /usr/local/lib/python3.7/dist-packages (from wandb) (2.3)\n",
            "Collecting shortuuid>=0.5.0\n",
            "  Downloading shortuuid-1.0.9-py3-none-any.whl (9.4 kB)\n",
            "Requirement already satisfied: psutil>=5.0.0 in /usr/local/lib/python3.7/dist-packages (from wandb) (5.4.8)\n",
            "Requirement already satisfied: PyYAML in /usr/local/lib/python3.7/dist-packages (from wandb) (3.13)\n",
            "Collecting setproctitle\n",
            "  Downloading setproctitle-1.3.2-cp37-cp37m-manylinux_2_5_x86_64.manylinux1_x86_64.manylinux_2_17_x86_64.manylinux2014_x86_64.whl (30 kB)\n",
            "Requirement already satisfied: protobuf<4.0dev,>=3.12.0 in /usr/local/lib/python3.7/dist-packages (from wandb) (3.17.3)\n",
            "Collecting GitPython>=1.0.0\n",
            "  Downloading GitPython-3.1.27-py3-none-any.whl (181 kB)\n",
            "\u001b[K     |████████████████████████████████| 181 kB 48.2 MB/s \n",
            "\u001b[?25hCollecting docker-pycreds>=0.4.0\n",
            "  Downloading docker_pycreds-0.4.0-py2.py3-none-any.whl (9.0 kB)\n",
            "Collecting sentry-sdk>=1.0.0\n",
            "  Downloading sentry_sdk-1.9.4-py2.py3-none-any.whl (157 kB)\n",
            "\u001b[K     |████████████████████████████████| 157 kB 50.6 MB/s \n",
            "\u001b[?25hRequirement already satisfied: setuptools in /usr/local/lib/python3.7/dist-packages (from wandb) (57.4.0)\n",
            "Requirement already satisfied: Click!=8.0.0,>=7.0 in /usr/local/lib/python3.7/dist-packages (from wandb) (7.1.2)\n",
            "Requirement already satisfied: six>=1.13.0 in /usr/local/lib/python3.7/dist-packages (from wandb) (1.15.0)\n",
            "Requirement already satisfied: requests<3,>=2.0.0 in /usr/local/lib/python3.7/dist-packages (from wandb) (2.23.0)\n",
            "Requirement already satisfied: typing-extensions>=3.7.4.3 in /usr/local/lib/python3.7/dist-packages (from GitPython>=1.0.0->wandb) (4.1.1)\n",
            "Collecting gitdb<5,>=4.0.1\n",
            "  Downloading gitdb-4.0.9-py3-none-any.whl (63 kB)\n",
            "\u001b[K     |████████████████████████████████| 63 kB 1.5 MB/s \n",
            "\u001b[?25hCollecting smmap<6,>=3.0.1\n",
            "  Downloading smmap-5.0.0-py3-none-any.whl (24 kB)\n",
            "Requirement already satisfied: idna<3,>=2.5 in /usr/local/lib/python3.7/dist-packages (from requests<3,>=2.0.0->wandb) (2.10)\n",
            "Requirement already satisfied: chardet<4,>=3.0.2 in /usr/local/lib/python3.7/dist-packages (from requests<3,>=2.0.0->wandb) (3.0.4)\n",
            "Requirement already satisfied: certifi>=2017.4.17 in /usr/local/lib/python3.7/dist-packages (from requests<3,>=2.0.0->wandb) (2022.6.15)\n",
            "Requirement already satisfied: urllib3!=1.25.0,!=1.25.1,<1.26,>=1.21.1 in /usr/local/lib/python3.7/dist-packages (from requests<3,>=2.0.0->wandb) (1.24.3)\n",
            "Collecting sentry-sdk>=1.0.0\n",
            "  Downloading sentry_sdk-1.9.3-py2.py3-none-any.whl (157 kB)\n",
            "\u001b[K     |████████████████████████████████| 157 kB 26.9 MB/s \n",
            "\u001b[?25h  Downloading sentry_sdk-1.9.2-py2.py3-none-any.whl (157 kB)\n",
            "\u001b[K     |████████████████████████████████| 157 kB 31.2 MB/s \n",
            "\u001b[?25h  Downloading sentry_sdk-1.9.1-py2.py3-none-any.whl (157 kB)\n",
            "\u001b[K     |████████████████████████████████| 157 kB 41.2 MB/s \n",
            "\u001b[?25h  Downloading sentry_sdk-1.9.0-py2.py3-none-any.whl (156 kB)\n",
            "\u001b[K     |████████████████████████████████| 156 kB 28.3 MB/s \n",
            "\u001b[?25hBuilding wheels for collected packages: pathtools\n",
            "  Building wheel for pathtools (setup.py) ... \u001b[?25l\u001b[?25hdone\n",
            "  Created wheel for pathtools: filename=pathtools-0.1.2-py3-none-any.whl size=8806 sha256=55b4780b78e1fc1b9d8fc758e896e0351b8d648539f5453d44d2ec28527161d2\n",
            "  Stored in directory: /root/.cache/pip/wheels/3e/31/09/fa59cef12cdcfecc627b3d24273699f390e71828921b2cbba2\n",
            "Successfully built pathtools\n",
            "Installing collected packages: smmap, gitdb, shortuuid, setproctitle, sentry-sdk, pathtools, GitPython, docker-pycreds, wandb\n",
            "Successfully installed GitPython-3.1.27 docker-pycreds-0.4.0 gitdb-4.0.9 pathtools-0.1.2 sentry-sdk-1.9.0 setproctitle-1.3.2 shortuuid-1.0.9 smmap-5.0.0 wandb-0.13.1\n"
          ]
        }
      ]
    },
    {
      "cell_type": "code",
      "source": [
        "import wandb\n",
        "from torchvision.utils import make_grid"
      ],
      "metadata": {
        "id": "t7iSIgbMXNM9"
      },
      "execution_count": null,
      "outputs": []
    },
    {
      "cell_type": "code",
      "source": [
        "step = 0\n",
        "gen.train();"
      ],
      "metadata": {
        "id": "KSi2dsgAXQTI"
      },
      "execution_count": null,
      "outputs": []
    },
    {
      "cell_type": "code",
      "source": [
        "\n",
        "wandb.init(\"task-02\")\n",
        "\n",
        "for epoch in range(EPOCHS):\n",
        "  for idx , (emb_img, mask_img) in enumerate(loader):\n",
        "    emb_img = emb_img.to(device)\n",
        "    mask_img = mask_img.to(device)\n",
        "    predicted_mask = unet(emb_img.float())\n",
        "    loss = criterion(predicted_mask, mask_img)\n",
        "\n",
        "    unet.zero_grad()\n",
        "    loss.backward()\n",
        "    opt.step()\n",
        "    print(loss.item())\n",
        "\n",
        "\n",
        "  wandb.log({\"LOSS : \" : loss, 'epoch' : epoch})  \n",
        "  with torch.inference_mode():\n",
        "   for batch_idx, (emb_img, mask_img) in enumerate(loader):\n",
        "     predicted_mask = unet(emb_img.float()).to(device)\n",
        "     grid1 = make_grid(emb_img)\n",
        "     grid2 = make_grid(mask_img)\n",
        "     grid3 = make_grid(predicted_mask)\n",
        "     grid1 = wandb.Image(grid1, caption=\"Original Image\")\n",
        "     grid2 = wandb.Image(grid2, caption=\"Original Mask \")\n",
        "     grid3 = wandb.Image(grid2, caption=\"Predicted Mask\")\n",
        "     wandb.log({\"Original Image \": grid1})\n",
        "     wandb.log({\"Original Mask \": grid2})\n",
        "     wandb.log({\"Predicted Mask \" : grid3})"
      ],
      "metadata": {
        "colab": {
          "base_uri": "https://localhost:8080/",
          "height": 1000,
          "referenced_widgets": [
            "ff96ddb98a094bbca22c5bd283b5dd33",
            "cf6d238cc6b64f80a8b62e824a36cfd4",
            "11838d9c1b1b4964a8746e5e17a522ab",
            "5b2cea1a08eb40898c338ed2595170fd",
            "2d087f0c8fd945b78758a9784c597e8a",
            "f69b656148324105800cf477b4169546",
            "5b49249fa1ce4d0a97ca30ac6c483bc6",
            "0a0bcbc25d5b4621aa1440e39072c653"
          ]
        },
        "id": "MSnIXziS4V1Z",
        "outputId": "c06455f7-e3b9-44a7-dc90-5277ff31b90a"
      },
      "execution_count": null,
      "outputs": [
        {
          "output_type": "display_data",
          "data": {
            "text/plain": [
              "<IPython.core.display.HTML object>"
            ],
            "text/html": [
              "Finishing last run (ID:3kjsi8b6) before initializing another..."
            ]
          },
          "metadata": {}
        },
        {
          "output_type": "display_data",
          "data": {
            "text/plain": [
              "<IPython.core.display.HTML object>"
            ],
            "text/html": [
              "Waiting for W&B process to finish... <strong style=\"color:green\">(success).</strong>"
            ]
          },
          "metadata": {}
        },
        {
          "output_type": "display_data",
          "data": {
            "text/plain": [
              "VBox(children=(Label(value='0.000 MB of 0.000 MB uploaded (0.000 MB deduped)\\r'), FloatProgress(value=1.0, max…"
            ],
            "application/vnd.jupyter.widget-view+json": {
              "version_major": 2,
              "version_minor": 0,
              "model_id": "ff96ddb98a094bbca22c5bd283b5dd33"
            }
          },
          "metadata": {}
        },
        {
          "output_type": "display_data",
          "data": {
            "text/plain": [
              "<IPython.core.display.HTML object>"
            ],
            "text/html": [
              "<style>\n",
              "    table.wandb td:nth-child(1) { padding: 0 10px; text-align: left ; width: auto;} td:nth-child(2) {text-align: left ; width: 100%}\n",
              "    .wandb-row { display: flex; flex-direction: row; flex-wrap: wrap; justify-content: flex-start; width: 100% }\n",
              "    .wandb-col { display: flex; flex-direction: column; flex-basis: 100%; flex: 1; padding: 10px; }\n",
              "    </style>\n",
              "<div class=\"wandb-row\"><div class=\"wandb-col\"><h3>Run history:</h3><br/><table class=\"wandb\"><tr><td>LOSS : </td><td>▁</td></tr><tr><td>epoch</td><td>▁</td></tr></table><br/></div><div class=\"wandb-col\"><h3>Run summary:</h3><br/><table class=\"wandb\"><tr><td>LOSS : </td><td>0.80474</td></tr><tr><td>epoch</td><td>0</td></tr></table><br/></div></div>"
            ]
          },
          "metadata": {}
        },
        {
          "output_type": "display_data",
          "data": {
            "text/plain": [
              "<IPython.core.display.HTML object>"
            ],
            "text/html": [
              "Synced <strong style=\"color:#cdcd00\">sunny-vortex-30</strong>: <a href=\"https://wandb.ai/saquibali7/uncategorized/runs/3kjsi8b6\" target=\"_blank\">https://wandb.ai/saquibali7/uncategorized/runs/3kjsi8b6</a><br/>Synced 4 W&B file(s), 0 media file(s), 0 artifact file(s) and 0 other file(s)"
            ]
          },
          "metadata": {}
        },
        {
          "output_type": "display_data",
          "data": {
            "text/plain": [
              "<IPython.core.display.HTML object>"
            ],
            "text/html": [
              "Find logs at: <code>./wandb/run-20220811_171508-3kjsi8b6/logs</code>"
            ]
          },
          "metadata": {}
        },
        {
          "output_type": "display_data",
          "data": {
            "text/plain": [
              "<IPython.core.display.HTML object>"
            ],
            "text/html": [
              "Successfully finished last run (ID:3kjsi8b6). Initializing new run:<br/>"
            ]
          },
          "metadata": {}
        },
        {
          "output_type": "display_data",
          "data": {
            "text/plain": [
              "<IPython.core.display.HTML object>"
            ],
            "text/html": [
              "Tracking run with wandb version 0.13.1"
            ]
          },
          "metadata": {}
        },
        {
          "output_type": "display_data",
          "data": {
            "text/plain": [
              "<IPython.core.display.HTML object>"
            ],
            "text/html": [
              "Run data is saved locally in <code>/content/wandb/run-20220811_175625-lnq6j4ov</code>"
            ]
          },
          "metadata": {}
        },
        {
          "output_type": "display_data",
          "data": {
            "text/plain": [
              "<IPython.core.display.HTML object>"
            ],
            "text/html": [
              "Syncing run <strong><a href=\"https://wandb.ai/saquibali7/uncategorized/runs/lnq6j4ov\" target=\"_blank\">hardy-mountain-31</a></strong> to <a href=\"https://wandb.ai/saquibali7/uncategorized\" target=\"_blank\">Weights & Biases</a> (<a href=\"https://wandb.me/run\" target=\"_blank\">docs</a>)<br/>"
            ]
          },
          "metadata": {}
        },
        {
          "output_type": "stream",
          "name": "stdout",
          "text": [
            "tensor(0.9527, dtype=torch.float64, grad_fn=<DivBackward1>)\n",
            "tensor(0.8637, dtype=torch.float64, grad_fn=<DivBackward1>)\n",
            "tensor(0.8989, dtype=torch.float64, grad_fn=<DivBackward1>)\n",
            "tensor(0.8905, dtype=torch.float64, grad_fn=<DivBackward1>)\n",
            "tensor(0.9478, dtype=torch.float64, grad_fn=<DivBackward1>)\n",
            "tensor(0.8481, dtype=torch.float64, grad_fn=<DivBackward1>)\n",
            "tensor(0.8523, dtype=torch.float64, grad_fn=<DivBackward1>)\n",
            "tensor(0.9295, dtype=torch.float64, grad_fn=<DivBackward1>)\n",
            "tensor(0.9375, dtype=torch.float64, grad_fn=<DivBackward1>)\n",
            "tensor(0.8559, dtype=torch.float64, grad_fn=<DivBackward1>)\n",
            "tensor(0.8667, dtype=torch.float64, grad_fn=<DivBackward1>)\n",
            "tensor(0.8574, dtype=torch.float64, grad_fn=<DivBackward1>)\n",
            "tensor(0.9389, dtype=torch.float64, grad_fn=<DivBackward1>)\n",
            "tensor(0.9141, dtype=torch.float64, grad_fn=<DivBackward1>)\n",
            "tensor(0.8606, dtype=torch.float64, grad_fn=<DivBackward1>)\n",
            "tensor(0.8478, dtype=torch.float64, grad_fn=<DivBackward1>)\n",
            "tensor(0.8719, dtype=torch.float64, grad_fn=<DivBackward1>)\n",
            "tensor(0.8810, dtype=torch.float64, grad_fn=<DivBackward1>)\n",
            "tensor(0.8857, dtype=torch.float64, grad_fn=<DivBackward1>)\n",
            "tensor(0.8903, dtype=torch.float64, grad_fn=<DivBackward1>)\n",
            "tensor(0.9285, dtype=torch.float64, grad_fn=<DivBackward1>)\n",
            "tensor(0.8762, dtype=torch.float64, grad_fn=<DivBackward1>)\n",
            "tensor(0.8477, dtype=torch.float64, grad_fn=<DivBackward1>)\n",
            "tensor(0.9185, dtype=torch.float64, grad_fn=<DivBackward1>)\n",
            "tensor(0.9461, dtype=torch.float64, grad_fn=<DivBackward1>)\n",
            "tensor(0.8900, dtype=torch.float64, grad_fn=<DivBackward1>)\n",
            "tensor(0.8893, dtype=torch.float64, grad_fn=<DivBackward1>)\n",
            "tensor(0.9391, dtype=torch.float64, grad_fn=<DivBackward1>)\n",
            "tensor(0.8963, dtype=torch.float64, grad_fn=<DivBackward1>)\n",
            "tensor(0.9234, dtype=torch.float64, grad_fn=<DivBackward1>)\n",
            "tensor(0.8871, dtype=torch.float64, grad_fn=<DivBackward1>)\n",
            "tensor(0.8583, dtype=torch.float64, grad_fn=<DivBackward1>)\n",
            "tensor(0.8789, dtype=torch.float64, grad_fn=<DivBackward1>)\n",
            "tensor(0.8472, dtype=torch.float64, grad_fn=<DivBackward1>)\n",
            "tensor(0.8698, dtype=torch.float64, grad_fn=<DivBackward1>)\n",
            "tensor(0.8200, dtype=torch.float64, grad_fn=<DivBackward1>)\n",
            "tensor(0.8511, dtype=torch.float64, grad_fn=<DivBackward1>)\n",
            "tensor(0.7968, dtype=torch.float64, grad_fn=<DivBackward1>)\n",
            "tensor(0.8356, dtype=torch.float64, grad_fn=<DivBackward1>)\n",
            "tensor(0.8349, dtype=torch.float64, grad_fn=<DivBackward1>)\n",
            "tensor(0.8368, dtype=torch.float64, grad_fn=<DivBackward1>)\n",
            "tensor(0.8542, dtype=torch.float64, grad_fn=<DivBackward1>)\n",
            "tensor(0.8251, dtype=torch.float64, grad_fn=<DivBackward1>)\n",
            "tensor(0.8801, dtype=torch.float64, grad_fn=<DivBackward1>)\n",
            "tensor(0.8279, dtype=torch.float64, grad_fn=<DivBackward1>)\n",
            "tensor(0.8360, dtype=torch.float64, grad_fn=<DivBackward1>)\n",
            "tensor(0.8791, dtype=torch.float64, grad_fn=<DivBackward1>)\n",
            "tensor(0.8907, dtype=torch.float64, grad_fn=<DivBackward1>)\n",
            "tensor(0.8389, dtype=torch.float64, grad_fn=<DivBackward1>)\n",
            "tensor(0.8323, dtype=torch.float64, grad_fn=<DivBackward1>)\n",
            "tensor(0.8538, dtype=torch.float64, grad_fn=<DivBackward1>)\n",
            "tensor(0.8839, dtype=torch.float64, grad_fn=<DivBackward1>)\n",
            "tensor(0.8218, dtype=torch.float64, grad_fn=<DivBackward1>)\n",
            "tensor(0.8530, dtype=torch.float64, grad_fn=<DivBackward1>)\n",
            "tensor(0.8596, dtype=torch.float64, grad_fn=<DivBackward1>)\n",
            "tensor(0.8788, dtype=torch.float64, grad_fn=<DivBackward1>)\n",
            "tensor(0.8358, dtype=torch.float64, grad_fn=<DivBackward1>)\n",
            "tensor(0.8783, dtype=torch.float64, grad_fn=<DivBackward1>)\n",
            "tensor(0.8946, dtype=torch.float64, grad_fn=<DivBackward1>)\n",
            "tensor(0.9387, dtype=torch.float64, grad_fn=<DivBackward1>)\n",
            "tensor(0.8478, dtype=torch.float64, grad_fn=<DivBackward1>)\n",
            "tensor(0.8376, dtype=torch.float64, grad_fn=<DivBackward1>)\n",
            "tensor(0.8497, dtype=torch.float64, grad_fn=<DivBackward1>)\n",
            "tensor(0.8356, dtype=torch.float64, grad_fn=<DivBackward1>)\n",
            "tensor(0.8763, dtype=torch.float64, grad_fn=<DivBackward1>)\n",
            "tensor(0.8850, dtype=torch.float64, grad_fn=<DivBackward1>)\n",
            "tensor(0.8675, dtype=torch.float64, grad_fn=<DivBackward1>)\n",
            "tensor(0.8938, dtype=torch.float64, grad_fn=<DivBackward1>)\n",
            "tensor(0.8854, dtype=torch.float64, grad_fn=<DivBackward1>)\n",
            "tensor(0.8495, dtype=torch.float64, grad_fn=<DivBackward1>)\n",
            "tensor(0.9263, dtype=torch.float64, grad_fn=<DivBackward1>)\n",
            "tensor(0.9064, dtype=torch.float64, grad_fn=<DivBackward1>)\n",
            "tensor(0.7847, dtype=torch.float64, grad_fn=<DivBackward1>)\n",
            "tensor(0.8269, dtype=torch.float64, grad_fn=<DivBackward1>)\n",
            "tensor(0.9183, dtype=torch.float64, grad_fn=<DivBackward1>)\n",
            "tensor(0.9221, dtype=torch.float64, grad_fn=<DivBackward1>)\n",
            "tensor(0.8575, dtype=torch.float64, grad_fn=<DivBackward1>)\n",
            "tensor(0.8912, dtype=torch.float64, grad_fn=<DivBackward1>)\n",
            "tensor(0.8243, dtype=torch.float64, grad_fn=<DivBackward1>)\n",
            "tensor(0.8218, dtype=torch.float64, grad_fn=<DivBackward1>)\n",
            "tensor(0.7838, dtype=torch.float64, grad_fn=<DivBackward1>)\n",
            "tensor(0.7257, dtype=torch.float64, grad_fn=<DivBackward1>)\n",
            "tensor(0.8524, dtype=torch.float64, grad_fn=<DivBackward1>)\n",
            "tensor(0.7997, dtype=torch.float64, grad_fn=<DivBackward1>)\n",
            "tensor(0.6778, dtype=torch.float64, grad_fn=<DivBackward1>)\n",
            "tensor(0.5490, dtype=torch.float64, grad_fn=<DivBackward1>)\n",
            "tensor(0.4737, dtype=torch.float64, grad_fn=<DivBackward1>)\n",
            "tensor(0.6150, dtype=torch.float64, grad_fn=<DivBackward1>)\n",
            "tensor(0.5730, dtype=torch.float64, grad_fn=<DivBackward1>)\n",
            "tensor(0.5126, dtype=torch.float64, grad_fn=<DivBackward1>)\n",
            "tensor(0.5746, dtype=torch.float64, grad_fn=<DivBackward1>)\n",
            "tensor(0.2397, dtype=torch.float64, grad_fn=<DivBackward1>)\n",
            "tensor(0.3048, dtype=torch.float64, grad_fn=<DivBackward1>)\n",
            "tensor(0.8643, dtype=torch.float64, grad_fn=<DivBackward1>)\n",
            "tensor(0.7987, dtype=torch.float64, grad_fn=<DivBackward1>)\n",
            "tensor(0.8556, dtype=torch.float64, grad_fn=<DivBackward1>)\n",
            "tensor(0.7441, dtype=torch.float64, grad_fn=<DivBackward1>)\n",
            "tensor(0.7414, dtype=torch.float64, grad_fn=<DivBackward1>)\n",
            "tensor(0.7751, dtype=torch.float64, grad_fn=<DivBackward1>)\n",
            "tensor(0.8209, dtype=torch.float64, grad_fn=<DivBackward1>)\n",
            "tensor(0.7848, dtype=torch.float64, grad_fn=<DivBackward1>)\n",
            "tensor(0.7534, dtype=torch.float64, grad_fn=<DivBackward1>)\n",
            "tensor(0.7888, dtype=torch.float64, grad_fn=<DivBackward1>)\n",
            "tensor(0.7979, dtype=torch.float64, grad_fn=<DivBackward1>)\n",
            "tensor(0.8708, dtype=torch.float64, grad_fn=<DivBackward1>)\n",
            "tensor(0.7569, dtype=torch.float64, grad_fn=<DivBackward1>)\n",
            "tensor(0.8171, dtype=torch.float64, grad_fn=<DivBackward1>)\n",
            "tensor(0.8237, dtype=torch.float64, grad_fn=<DivBackward1>)\n",
            "tensor(0.8057, dtype=torch.float64, grad_fn=<DivBackward1>)\n",
            "tensor(0.7867, dtype=torch.float64, grad_fn=<DivBackward1>)\n",
            "tensor(0.7786, dtype=torch.float64, grad_fn=<DivBackward1>)\n",
            "tensor(0.8526, dtype=torch.float64, grad_fn=<DivBackward1>)\n",
            "tensor(0.7328, dtype=torch.float64, grad_fn=<DivBackward1>)\n",
            "tensor(0.7714, dtype=torch.float64, grad_fn=<DivBackward1>)\n",
            "tensor(0.8046, dtype=torch.float64, grad_fn=<DivBackward1>)\n"
          ]
        },
        {
          "output_type": "error",
          "ename": "FileNotFoundError",
          "evalue": "ignored",
          "traceback": [
            "\u001b[0;31m---------------------------------------------------------------------------\u001b[0m",
            "\u001b[0;31mFileNotFoundError\u001b[0m                         Traceback (most recent call last)",
            "\u001b[0;32m/usr/lib/python3.7/shutil.py\u001b[0m in \u001b[0;36mmove\u001b[0;34m(src, dst, copy_function)\u001b[0m\n\u001b[1;32m    565\u001b[0m     \u001b[0;32mtry\u001b[0m\u001b[0;34m:\u001b[0m\u001b[0;34m\u001b[0m\u001b[0;34m\u001b[0m\u001b[0m\n\u001b[0;32m--> 566\u001b[0;31m         \u001b[0mos\u001b[0m\u001b[0;34m.\u001b[0m\u001b[0mrename\u001b[0m\u001b[0;34m(\u001b[0m\u001b[0msrc\u001b[0m\u001b[0;34m,\u001b[0m \u001b[0mreal_dst\u001b[0m\u001b[0;34m)\u001b[0m\u001b[0;34m\u001b[0m\u001b[0;34m\u001b[0m\u001b[0m\n\u001b[0m\u001b[1;32m    567\u001b[0m     \u001b[0;32mexcept\u001b[0m \u001b[0mOSError\u001b[0m\u001b[0;34m:\u001b[0m\u001b[0;34m\u001b[0m\u001b[0;34m\u001b[0m\u001b[0m\n",
            "\u001b[0;31mFileNotFoundError\u001b[0m: [Errno 2] No such file or directory: '/tmp/tmp647agqudwandb-media/1pm0i54p.png' -> '/content/wandb/run-20220811_175625-lnq6j4ov/files/media/images/Predicted Mask _3_d12bbd94b4169af1b953.png'",
            "\nDuring handling of the above exception, another exception occurred:\n",
            "\u001b[0;31mFileNotFoundError\u001b[0m                         Traceback (most recent call last)",
            "\u001b[0;32m<ipython-input-72-ee740998112f>\u001b[0m in \u001b[0;36m<module>\u001b[0;34m()\u001b[0m\n\u001b[1;32m     27\u001b[0m      \u001b[0mwandb\u001b[0m\u001b[0;34m.\u001b[0m\u001b[0mlog\u001b[0m\u001b[0;34m(\u001b[0m\u001b[0;34m{\u001b[0m\u001b[0;34m\"Original Image \"\u001b[0m\u001b[0;34m:\u001b[0m \u001b[0mgrid1\u001b[0m\u001b[0;34m}\u001b[0m\u001b[0;34m)\u001b[0m\u001b[0;34m\u001b[0m\u001b[0;34m\u001b[0m\u001b[0m\n\u001b[1;32m     28\u001b[0m      \u001b[0mwandb\u001b[0m\u001b[0;34m.\u001b[0m\u001b[0mlog\u001b[0m\u001b[0;34m(\u001b[0m\u001b[0;34m{\u001b[0m\u001b[0;34m\"Original Mask \"\u001b[0m\u001b[0;34m:\u001b[0m \u001b[0mgrid2\u001b[0m\u001b[0;34m}\u001b[0m\u001b[0;34m)\u001b[0m\u001b[0;34m\u001b[0m\u001b[0;34m\u001b[0m\u001b[0m\n\u001b[0;32m---> 29\u001b[0;31m      \u001b[0mwandb\u001b[0m\u001b[0;34m.\u001b[0m\u001b[0mlog\u001b[0m\u001b[0;34m(\u001b[0m\u001b[0;34m{\u001b[0m\u001b[0;34m\"Predicted Mask \"\u001b[0m \u001b[0;34m:\u001b[0m \u001b[0mgrid3\u001b[0m\u001b[0;34m}\u001b[0m\u001b[0;34m)\u001b[0m\u001b[0;34m\u001b[0m\u001b[0;34m\u001b[0m\u001b[0m\n\u001b[0m",
            "\u001b[0;32m/usr/local/lib/python3.7/dist-packages/wandb/sdk/wandb_run.py\u001b[0m in \u001b[0;36mwrapper\u001b[0;34m(self, *args, **kwargs)\u001b[0m\n\u001b[1;32m    287\u001b[0m                     \u001b[0;32mreturn\u001b[0m \u001b[0mcls\u001b[0m\u001b[0;34m.\u001b[0m\u001b[0mDummy\u001b[0m\u001b[0;34m(\u001b[0m\u001b[0;34m)\u001b[0m\u001b[0;34m\u001b[0m\u001b[0;34m\u001b[0m\u001b[0m\n\u001b[1;32m    288\u001b[0m \u001b[0;34m\u001b[0m\u001b[0m\n\u001b[0;32m--> 289\u001b[0;31m             \u001b[0;32mreturn\u001b[0m \u001b[0mfunc\u001b[0m\u001b[0;34m(\u001b[0m\u001b[0mself\u001b[0m\u001b[0;34m,\u001b[0m \u001b[0;34m*\u001b[0m\u001b[0margs\u001b[0m\u001b[0;34m,\u001b[0m \u001b[0;34m**\u001b[0m\u001b[0mkwargs\u001b[0m\u001b[0;34m)\u001b[0m\u001b[0;34m\u001b[0m\u001b[0;34m\u001b[0m\u001b[0m\n\u001b[0m\u001b[1;32m    290\u001b[0m \u001b[0;34m\u001b[0m\u001b[0m\n\u001b[1;32m    291\u001b[0m         \u001b[0;32mreturn\u001b[0m \u001b[0mwrapper\u001b[0m\u001b[0;34m\u001b[0m\u001b[0;34m\u001b[0m\u001b[0m\n",
            "\u001b[0;32m/usr/local/lib/python3.7/dist-packages/wandb/sdk/wandb_run.py\u001b[0m in \u001b[0;36mwrapper\u001b[0;34m(self, *args, **kwargs)\u001b[0m\n\u001b[1;32m    253\u001b[0m                     \u001b[0;32mraise\u001b[0m \u001b[0me\u001b[0m\u001b[0;34m\u001b[0m\u001b[0;34m\u001b[0m\u001b[0m\n\u001b[1;32m    254\u001b[0m                 \u001b[0mcls\u001b[0m\u001b[0;34m.\u001b[0m\u001b[0m_is_attaching\u001b[0m \u001b[0;34m=\u001b[0m \u001b[0;34m\"\"\u001b[0m\u001b[0;34m\u001b[0m\u001b[0;34m\u001b[0m\u001b[0m\n\u001b[0;32m--> 255\u001b[0;31m             \u001b[0;32mreturn\u001b[0m \u001b[0mfunc\u001b[0m\u001b[0;34m(\u001b[0m\u001b[0mself\u001b[0m\u001b[0;34m,\u001b[0m \u001b[0;34m*\u001b[0m\u001b[0margs\u001b[0m\u001b[0;34m,\u001b[0m \u001b[0;34m**\u001b[0m\u001b[0mkwargs\u001b[0m\u001b[0;34m)\u001b[0m\u001b[0;34m\u001b[0m\u001b[0;34m\u001b[0m\u001b[0m\n\u001b[0m\u001b[1;32m    256\u001b[0m \u001b[0;34m\u001b[0m\u001b[0m\n\u001b[1;32m    257\u001b[0m         \u001b[0;32mreturn\u001b[0m \u001b[0mwrapper\u001b[0m\u001b[0;34m\u001b[0m\u001b[0;34m\u001b[0m\u001b[0m\n",
            "\u001b[0;32m/usr/local/lib/python3.7/dist-packages/wandb/sdk/wandb_run.py\u001b[0m in \u001b[0;36mlog\u001b[0;34m(self, data, step, commit, sync)\u001b[0m\n\u001b[1;32m   1589\u001b[0m                 ),\n\u001b[1;32m   1590\u001b[0m             )\n\u001b[0;32m-> 1591\u001b[0;31m         \u001b[0mself\u001b[0m\u001b[0;34m.\u001b[0m\u001b[0m_log\u001b[0m\u001b[0;34m(\u001b[0m\u001b[0mdata\u001b[0m\u001b[0;34m=\u001b[0m\u001b[0mdata\u001b[0m\u001b[0;34m,\u001b[0m \u001b[0mstep\u001b[0m\u001b[0;34m=\u001b[0m\u001b[0mstep\u001b[0m\u001b[0;34m,\u001b[0m \u001b[0mcommit\u001b[0m\u001b[0;34m=\u001b[0m\u001b[0mcommit\u001b[0m\u001b[0;34m)\u001b[0m\u001b[0;34m\u001b[0m\u001b[0;34m\u001b[0m\u001b[0m\n\u001b[0m\u001b[1;32m   1592\u001b[0m \u001b[0;34m\u001b[0m\u001b[0m\n\u001b[1;32m   1593\u001b[0m     \u001b[0;34m@\u001b[0m\u001b[0m_run_decorator\u001b[0m\u001b[0;34m.\u001b[0m\u001b[0m_attach\u001b[0m\u001b[0;34m\u001b[0m\u001b[0;34m\u001b[0m\u001b[0m\n",
            "\u001b[0;32m/usr/local/lib/python3.7/dist-packages/wandb/sdk/wandb_run.py\u001b[0m in \u001b[0;36m_log\u001b[0;34m(self, data, step, commit)\u001b[0m\n\u001b[1;32m   1373\u001b[0m             \u001b[0;32mraise\u001b[0m \u001b[0mValueError\u001b[0m\u001b[0;34m(\u001b[0m\u001b[0;34m\"Key values passed to `wandb.log` must be strings.\"\u001b[0m\u001b[0;34m)\u001b[0m\u001b[0;34m\u001b[0m\u001b[0;34m\u001b[0m\u001b[0m\n\u001b[1;32m   1374\u001b[0m \u001b[0;34m\u001b[0m\u001b[0m\n\u001b[0;32m-> 1375\u001b[0;31m         \u001b[0mself\u001b[0m\u001b[0;34m.\u001b[0m\u001b[0m_partial_history_callback\u001b[0m\u001b[0;34m(\u001b[0m\u001b[0mdata\u001b[0m\u001b[0;34m,\u001b[0m \u001b[0mstep\u001b[0m\u001b[0;34m,\u001b[0m \u001b[0mcommit\u001b[0m\u001b[0;34m)\u001b[0m\u001b[0;34m\u001b[0m\u001b[0;34m\u001b[0m\u001b[0m\n\u001b[0m\u001b[1;32m   1376\u001b[0m \u001b[0;34m\u001b[0m\u001b[0m\n\u001b[1;32m   1377\u001b[0m         \u001b[0;32mif\u001b[0m \u001b[0mstep\u001b[0m \u001b[0;32mis\u001b[0m \u001b[0;32mnot\u001b[0m \u001b[0;32mNone\u001b[0m\u001b[0;34m:\u001b[0m\u001b[0;34m\u001b[0m\u001b[0;34m\u001b[0m\u001b[0m\n",
            "\u001b[0;32m/usr/local/lib/python3.7/dist-packages/wandb/sdk/wandb_run.py\u001b[0m in \u001b[0;36m_partial_history_callback\u001b[0;34m(self, row, step, commit)\u001b[0m\n\u001b[1;32m   1262\u001b[0m                 \u001b[0mstep\u001b[0m\u001b[0;34m=\u001b[0m\u001b[0mstep\u001b[0m\u001b[0;34m,\u001b[0m\u001b[0;34m\u001b[0m\u001b[0;34m\u001b[0m\u001b[0m\n\u001b[1;32m   1263\u001b[0m                 \u001b[0mflush\u001b[0m\u001b[0;34m=\u001b[0m\u001b[0mcommit\u001b[0m\u001b[0;34m,\u001b[0m\u001b[0;34m\u001b[0m\u001b[0;34m\u001b[0m\u001b[0m\n\u001b[0;32m-> 1264\u001b[0;31m                 \u001b[0mpublish_step\u001b[0m\u001b[0;34m=\u001b[0m\u001b[0mnot_using_tensorboard\u001b[0m\u001b[0;34m,\u001b[0m\u001b[0;34m\u001b[0m\u001b[0;34m\u001b[0m\u001b[0m\n\u001b[0m\u001b[1;32m   1265\u001b[0m             )\n\u001b[1;32m   1266\u001b[0m \u001b[0;34m\u001b[0m\u001b[0m\n",
            "\u001b[0;32m/usr/local/lib/python3.7/dist-packages/wandb/sdk/interface/interface.py\u001b[0m in \u001b[0;36mpublish_partial_history\u001b[0;34m(self, data, user_step, step, flush, publish_step, run)\u001b[0m\n\u001b[1;32m    539\u001b[0m         \u001b[0mrun\u001b[0m \u001b[0;34m=\u001b[0m \u001b[0mrun\u001b[0m \u001b[0;32mor\u001b[0m \u001b[0mself\u001b[0m\u001b[0;34m.\u001b[0m\u001b[0m_run\u001b[0m\u001b[0;34m\u001b[0m\u001b[0;34m\u001b[0m\u001b[0m\n\u001b[1;32m    540\u001b[0m \u001b[0;34m\u001b[0m\u001b[0m\n\u001b[0;32m--> 541\u001b[0;31m         \u001b[0mdata\u001b[0m \u001b[0;34m=\u001b[0m \u001b[0mhistory_dict_to_json\u001b[0m\u001b[0;34m(\u001b[0m\u001b[0mrun\u001b[0m\u001b[0;34m,\u001b[0m \u001b[0mdata\u001b[0m\u001b[0;34m,\u001b[0m \u001b[0mstep\u001b[0m\u001b[0;34m=\u001b[0m\u001b[0muser_step\u001b[0m\u001b[0;34m,\u001b[0m \u001b[0mignore_copy_err\u001b[0m\u001b[0;34m=\u001b[0m\u001b[0;32mTrue\u001b[0m\u001b[0;34m)\u001b[0m\u001b[0;34m\u001b[0m\u001b[0;34m\u001b[0m\u001b[0m\n\u001b[0m\u001b[1;32m    542\u001b[0m         \u001b[0mdata\u001b[0m\u001b[0;34m.\u001b[0m\u001b[0mpop\u001b[0m\u001b[0;34m(\u001b[0m\u001b[0;34m\"_step\"\u001b[0m\u001b[0;34m,\u001b[0m \u001b[0;32mNone\u001b[0m\u001b[0;34m)\u001b[0m\u001b[0;34m\u001b[0m\u001b[0;34m\u001b[0m\u001b[0m\n\u001b[1;32m    543\u001b[0m \u001b[0;34m\u001b[0m\u001b[0m\n",
            "\u001b[0;32m/usr/local/lib/python3.7/dist-packages/wandb/sdk/data_types/utils.py\u001b[0m in \u001b[0;36mhistory_dict_to_json\u001b[0;34m(run, payload, step, ignore_copy_err)\u001b[0m\n\u001b[1;32m     53\u001b[0m         \u001b[0;32melse\u001b[0m\u001b[0;34m:\u001b[0m\u001b[0;34m\u001b[0m\u001b[0;34m\u001b[0m\u001b[0m\n\u001b[1;32m     54\u001b[0m             payload[key] = val_to_json(\n\u001b[0;32m---> 55\u001b[0;31m                 \u001b[0mrun\u001b[0m\u001b[0;34m,\u001b[0m \u001b[0mkey\u001b[0m\u001b[0;34m,\u001b[0m \u001b[0mval\u001b[0m\u001b[0;34m,\u001b[0m \u001b[0mnamespace\u001b[0m\u001b[0;34m=\u001b[0m\u001b[0mstep\u001b[0m\u001b[0;34m,\u001b[0m \u001b[0mignore_copy_err\u001b[0m\u001b[0;34m=\u001b[0m\u001b[0mignore_copy_err\u001b[0m\u001b[0;34m\u001b[0m\u001b[0;34m\u001b[0m\u001b[0m\n\u001b[0m\u001b[1;32m     56\u001b[0m             )\n\u001b[1;32m     57\u001b[0m \u001b[0;34m\u001b[0m\u001b[0m\n",
            "\u001b[0;32m/usr/local/lib/python3.7/dist-packages/wandb/sdk/data_types/utils.py\u001b[0m in \u001b[0;36mval_to_json\u001b[0;34m(run, key, val, namespace, ignore_copy_err)\u001b[0m\n\u001b[1;32m    160\u001b[0m                 \u001b[0;32mand\u001b[0m \u001b[0mval\u001b[0m\u001b[0;34m.\u001b[0m\u001b[0m_log_type\u001b[0m \u001b[0;32min\u001b[0m \u001b[0;34m[\u001b[0m\u001b[0;34m\"partitioned-table\"\u001b[0m\u001b[0;34m,\u001b[0m \u001b[0;34m\"joined-table\"\u001b[0m\u001b[0;34m]\u001b[0m\u001b[0;34m\u001b[0m\u001b[0;34m\u001b[0m\u001b[0m\n\u001b[1;32m    161\u001b[0m             ):\n\u001b[0;32m--> 162\u001b[0;31m                 \u001b[0mval\u001b[0m\u001b[0;34m.\u001b[0m\u001b[0mbind_to_run\u001b[0m\u001b[0;34m(\u001b[0m\u001b[0mrun\u001b[0m\u001b[0;34m,\u001b[0m \u001b[0mkey\u001b[0m\u001b[0;34m,\u001b[0m \u001b[0mnamespace\u001b[0m\u001b[0;34m)\u001b[0m\u001b[0;34m\u001b[0m\u001b[0;34m\u001b[0m\u001b[0m\n\u001b[0m\u001b[1;32m    163\u001b[0m \u001b[0;34m\u001b[0m\u001b[0m\n\u001b[1;32m    164\u001b[0m         \u001b[0;32mreturn\u001b[0m \u001b[0mval\u001b[0m\u001b[0;34m.\u001b[0m\u001b[0mto_json\u001b[0m\u001b[0;34m(\u001b[0m\u001b[0mrun\u001b[0m\u001b[0;34m)\u001b[0m\u001b[0;34m\u001b[0m\u001b[0;34m\u001b[0m\u001b[0m\n",
            "\u001b[0;32m/usr/local/lib/python3.7/dist-packages/wandb/sdk/data_types/image.py\u001b[0m in \u001b[0;36mbind_to_run\u001b[0;34m(self, run, key, step, id_, ignore_copy_err)\u001b[0m\n\u001b[1;32m    339\u001b[0m             \u001b[0;32mor\u001b[0m \u001b[0mself\u001b[0m\u001b[0;34m.\u001b[0m\u001b[0m_get_artifact_entry_ref_url\u001b[0m\u001b[0;34m(\u001b[0m\u001b[0;34m)\u001b[0m \u001b[0;32mis\u001b[0m \u001b[0;32mNone\u001b[0m\u001b[0;34m\u001b[0m\u001b[0;34m\u001b[0m\u001b[0m\n\u001b[1;32m    340\u001b[0m         ):\n\u001b[0;32m--> 341\u001b[0;31m             \u001b[0msuper\u001b[0m\u001b[0;34m(\u001b[0m\u001b[0;34m)\u001b[0m\u001b[0;34m.\u001b[0m\u001b[0mbind_to_run\u001b[0m\u001b[0;34m(\u001b[0m\u001b[0mrun\u001b[0m\u001b[0;34m,\u001b[0m \u001b[0mkey\u001b[0m\u001b[0;34m,\u001b[0m \u001b[0mstep\u001b[0m\u001b[0;34m,\u001b[0m \u001b[0mid_\u001b[0m\u001b[0;34m,\u001b[0m \u001b[0mignore_copy_err\u001b[0m\u001b[0;34m=\u001b[0m\u001b[0mignore_copy_err\u001b[0m\u001b[0;34m)\u001b[0m\u001b[0;34m\u001b[0m\u001b[0;34m\u001b[0m\u001b[0m\n\u001b[0m\u001b[1;32m    342\u001b[0m         \u001b[0;32mif\u001b[0m \u001b[0mself\u001b[0m\u001b[0;34m.\u001b[0m\u001b[0m_boxes\u001b[0m \u001b[0;32mis\u001b[0m \u001b[0;32mnot\u001b[0m \u001b[0;32mNone\u001b[0m\u001b[0;34m:\u001b[0m\u001b[0;34m\u001b[0m\u001b[0;34m\u001b[0m\u001b[0m\n\u001b[1;32m    343\u001b[0m             \u001b[0;32mfor\u001b[0m \u001b[0mi\u001b[0m\u001b[0;34m,\u001b[0m \u001b[0mk\u001b[0m \u001b[0;32min\u001b[0m \u001b[0menumerate\u001b[0m\u001b[0;34m(\u001b[0m\u001b[0mself\u001b[0m\u001b[0;34m.\u001b[0m\u001b[0m_boxes\u001b[0m\u001b[0;34m)\u001b[0m\u001b[0;34m:\u001b[0m\u001b[0;34m\u001b[0m\u001b[0;34m\u001b[0m\u001b[0m\n",
            "\u001b[0;32m/usr/local/lib/python3.7/dist-packages/wandb/sdk/data_types/base_types/media.py\u001b[0m in \u001b[0;36mbind_to_run\u001b[0;34m(self, run, key, step, id_, ignore_copy_err)\u001b[0m\n\u001b[1;32m    130\u001b[0m \u001b[0;34m\u001b[0m\u001b[0m\n\u001b[1;32m    131\u001b[0m         \u001b[0;32mif\u001b[0m \u001b[0mself\u001b[0m\u001b[0;34m.\u001b[0m\u001b[0m_is_tmp\u001b[0m\u001b[0;34m:\u001b[0m\u001b[0;34m\u001b[0m\u001b[0;34m\u001b[0m\u001b[0m\n\u001b[0;32m--> 132\u001b[0;31m             \u001b[0mshutil\u001b[0m\u001b[0;34m.\u001b[0m\u001b[0mmove\u001b[0m\u001b[0;34m(\u001b[0m\u001b[0mself\u001b[0m\u001b[0;34m.\u001b[0m\u001b[0m_path\u001b[0m\u001b[0;34m,\u001b[0m \u001b[0mnew_path\u001b[0m\u001b[0;34m)\u001b[0m\u001b[0;34m\u001b[0m\u001b[0;34m\u001b[0m\u001b[0m\n\u001b[0m\u001b[1;32m    133\u001b[0m             \u001b[0mself\u001b[0m\u001b[0;34m.\u001b[0m\u001b[0m_path\u001b[0m \u001b[0;34m=\u001b[0m \u001b[0mnew_path\u001b[0m\u001b[0;34m\u001b[0m\u001b[0;34m\u001b[0m\u001b[0m\n\u001b[1;32m    134\u001b[0m             \u001b[0mself\u001b[0m\u001b[0;34m.\u001b[0m\u001b[0m_is_tmp\u001b[0m \u001b[0;34m=\u001b[0m \u001b[0;32mFalse\u001b[0m\u001b[0;34m\u001b[0m\u001b[0;34m\u001b[0m\u001b[0m\n",
            "\u001b[0;32m/usr/lib/python3.7/shutil.py\u001b[0m in \u001b[0;36mmove\u001b[0;34m(src, dst, copy_function)\u001b[0m\n\u001b[1;32m    578\u001b[0m             \u001b[0mrmtree\u001b[0m\u001b[0;34m(\u001b[0m\u001b[0msrc\u001b[0m\u001b[0;34m)\u001b[0m\u001b[0;34m\u001b[0m\u001b[0;34m\u001b[0m\u001b[0m\n\u001b[1;32m    579\u001b[0m         \u001b[0;32melse\u001b[0m\u001b[0;34m:\u001b[0m\u001b[0;34m\u001b[0m\u001b[0;34m\u001b[0m\u001b[0m\n\u001b[0;32m--> 580\u001b[0;31m             \u001b[0mcopy_function\u001b[0m\u001b[0;34m(\u001b[0m\u001b[0msrc\u001b[0m\u001b[0;34m,\u001b[0m \u001b[0mreal_dst\u001b[0m\u001b[0;34m)\u001b[0m\u001b[0;34m\u001b[0m\u001b[0;34m\u001b[0m\u001b[0m\n\u001b[0m\u001b[1;32m    581\u001b[0m             \u001b[0mos\u001b[0m\u001b[0;34m.\u001b[0m\u001b[0munlink\u001b[0m\u001b[0;34m(\u001b[0m\u001b[0msrc\u001b[0m\u001b[0;34m)\u001b[0m\u001b[0;34m\u001b[0m\u001b[0;34m\u001b[0m\u001b[0m\n\u001b[1;32m    582\u001b[0m     \u001b[0;32mreturn\u001b[0m \u001b[0mreal_dst\u001b[0m\u001b[0;34m\u001b[0m\u001b[0;34m\u001b[0m\u001b[0m\n",
            "\u001b[0;32m/usr/lib/python3.7/shutil.py\u001b[0m in \u001b[0;36mcopy2\u001b[0;34m(src, dst, follow_symlinks)\u001b[0m\n\u001b[1;32m    264\u001b[0m     \u001b[0;32mif\u001b[0m \u001b[0mos\u001b[0m\u001b[0;34m.\u001b[0m\u001b[0mpath\u001b[0m\u001b[0;34m.\u001b[0m\u001b[0misdir\u001b[0m\u001b[0;34m(\u001b[0m\u001b[0mdst\u001b[0m\u001b[0;34m)\u001b[0m\u001b[0;34m:\u001b[0m\u001b[0;34m\u001b[0m\u001b[0;34m\u001b[0m\u001b[0m\n\u001b[1;32m    265\u001b[0m         \u001b[0mdst\u001b[0m \u001b[0;34m=\u001b[0m \u001b[0mos\u001b[0m\u001b[0;34m.\u001b[0m\u001b[0mpath\u001b[0m\u001b[0;34m.\u001b[0m\u001b[0mjoin\u001b[0m\u001b[0;34m(\u001b[0m\u001b[0mdst\u001b[0m\u001b[0;34m,\u001b[0m \u001b[0mos\u001b[0m\u001b[0;34m.\u001b[0m\u001b[0mpath\u001b[0m\u001b[0;34m.\u001b[0m\u001b[0mbasename\u001b[0m\u001b[0;34m(\u001b[0m\u001b[0msrc\u001b[0m\u001b[0;34m)\u001b[0m\u001b[0;34m)\u001b[0m\u001b[0;34m\u001b[0m\u001b[0;34m\u001b[0m\u001b[0m\n\u001b[0;32m--> 266\u001b[0;31m     \u001b[0mcopyfile\u001b[0m\u001b[0;34m(\u001b[0m\u001b[0msrc\u001b[0m\u001b[0;34m,\u001b[0m \u001b[0mdst\u001b[0m\u001b[0;34m,\u001b[0m \u001b[0mfollow_symlinks\u001b[0m\u001b[0;34m=\u001b[0m\u001b[0mfollow_symlinks\u001b[0m\u001b[0;34m)\u001b[0m\u001b[0;34m\u001b[0m\u001b[0;34m\u001b[0m\u001b[0m\n\u001b[0m\u001b[1;32m    267\u001b[0m     \u001b[0mcopystat\u001b[0m\u001b[0;34m(\u001b[0m\u001b[0msrc\u001b[0m\u001b[0;34m,\u001b[0m \u001b[0mdst\u001b[0m\u001b[0;34m,\u001b[0m \u001b[0mfollow_symlinks\u001b[0m\u001b[0;34m=\u001b[0m\u001b[0mfollow_symlinks\u001b[0m\u001b[0;34m)\u001b[0m\u001b[0;34m\u001b[0m\u001b[0;34m\u001b[0m\u001b[0m\n\u001b[1;32m    268\u001b[0m     \u001b[0;32mreturn\u001b[0m \u001b[0mdst\u001b[0m\u001b[0;34m\u001b[0m\u001b[0;34m\u001b[0m\u001b[0m\n",
            "\u001b[0;32m/usr/lib/python3.7/shutil.py\u001b[0m in \u001b[0;36mcopyfile\u001b[0;34m(src, dst, follow_symlinks)\u001b[0m\n\u001b[1;32m    118\u001b[0m         \u001b[0mos\u001b[0m\u001b[0;34m.\u001b[0m\u001b[0msymlink\u001b[0m\u001b[0;34m(\u001b[0m\u001b[0mos\u001b[0m\u001b[0;34m.\u001b[0m\u001b[0mreadlink\u001b[0m\u001b[0;34m(\u001b[0m\u001b[0msrc\u001b[0m\u001b[0;34m)\u001b[0m\u001b[0;34m,\u001b[0m \u001b[0mdst\u001b[0m\u001b[0;34m)\u001b[0m\u001b[0;34m\u001b[0m\u001b[0;34m\u001b[0m\u001b[0m\n\u001b[1;32m    119\u001b[0m     \u001b[0;32melse\u001b[0m\u001b[0;34m:\u001b[0m\u001b[0;34m\u001b[0m\u001b[0;34m\u001b[0m\u001b[0m\n\u001b[0;32m--> 120\u001b[0;31m         \u001b[0;32mwith\u001b[0m \u001b[0mopen\u001b[0m\u001b[0;34m(\u001b[0m\u001b[0msrc\u001b[0m\u001b[0;34m,\u001b[0m \u001b[0;34m'rb'\u001b[0m\u001b[0;34m)\u001b[0m \u001b[0;32mas\u001b[0m \u001b[0mfsrc\u001b[0m\u001b[0;34m:\u001b[0m\u001b[0;34m\u001b[0m\u001b[0;34m\u001b[0m\u001b[0m\n\u001b[0m\u001b[1;32m    121\u001b[0m             \u001b[0;32mwith\u001b[0m \u001b[0mopen\u001b[0m\u001b[0;34m(\u001b[0m\u001b[0mdst\u001b[0m\u001b[0;34m,\u001b[0m \u001b[0;34m'wb'\u001b[0m\u001b[0;34m)\u001b[0m \u001b[0;32mas\u001b[0m \u001b[0mfdst\u001b[0m\u001b[0;34m:\u001b[0m\u001b[0;34m\u001b[0m\u001b[0;34m\u001b[0m\u001b[0m\n\u001b[1;32m    122\u001b[0m                 \u001b[0mcopyfileobj\u001b[0m\u001b[0;34m(\u001b[0m\u001b[0mfsrc\u001b[0m\u001b[0;34m,\u001b[0m \u001b[0mfdst\u001b[0m\u001b[0;34m)\u001b[0m\u001b[0;34m\u001b[0m\u001b[0;34m\u001b[0m\u001b[0m\n",
            "\u001b[0;31mFileNotFoundError\u001b[0m: [Errno 2] No such file or directory: '/tmp/tmp647agqudwandb-media/1pm0i54p.png'"
          ]
        }
      ]
    },
    {
      "cell_type": "code",
      "source": [
        ""
      ],
      "metadata": {
        "id": "VSXqGZov5wz7"
      },
      "execution_count": null,
      "outputs": []
    }
  ],
  "metadata": {
    "accelerator": "GPU",
    "colab": {
      "collapsed_sections": [],
      "name": "task02.ipynb",
      "provenance": [],
      "authorship_tag": "ABX9TyNbfkbnrA0gcbChlox73fz/",
      "include_colab_link": true
    },
    "gpuClass": "standard",
    "kernelspec": {
      "display_name": "Python 3",
      "name": "python3"
    },
    "language_info": {
      "name": "python"
    },
    "widgets": {
      "application/vnd.jupyter.widget-state+json": {
        "ff96ddb98a094bbca22c5bd283b5dd33": {
          "model_module": "@jupyter-widgets/controls",
          "model_name": "VBoxModel",
          "model_module_version": "1.5.0",
          "state": {
            "_dom_classes": [],
            "_model_module": "@jupyter-widgets/controls",
            "_model_module_version": "1.5.0",
            "_model_name": "VBoxModel",
            "_view_count": null,
            "_view_module": "@jupyter-widgets/controls",
            "_view_module_version": "1.5.0",
            "_view_name": "VBoxView",
            "box_style": "",
            "children": [
              "IPY_MODEL_cf6d238cc6b64f80a8b62e824a36cfd4",
              "IPY_MODEL_11838d9c1b1b4964a8746e5e17a522ab"
            ],
            "layout": "IPY_MODEL_5b2cea1a08eb40898c338ed2595170fd"
          }
        },
        "cf6d238cc6b64f80a8b62e824a36cfd4": {
          "model_module": "@jupyter-widgets/controls",
          "model_name": "LabelModel",
          "model_module_version": "1.5.0",
          "state": {
            "_dom_classes": [],
            "_model_module": "@jupyter-widgets/controls",
            "_model_module_version": "1.5.0",
            "_model_name": "LabelModel",
            "_view_count": null,
            "_view_module": "@jupyter-widgets/controls",
            "_view_module_version": "1.5.0",
            "_view_name": "LabelView",
            "description": "",
            "description_tooltip": null,
            "layout": "IPY_MODEL_2d087f0c8fd945b78758a9784c597e8a",
            "placeholder": "​",
            "style": "IPY_MODEL_f69b656148324105800cf477b4169546",
            "value": "0.008 MB of 0.008 MB uploaded (0.000 MB deduped)\r"
          }
        },
        "11838d9c1b1b4964a8746e5e17a522ab": {
          "model_module": "@jupyter-widgets/controls",
          "model_name": "FloatProgressModel",
          "model_module_version": "1.5.0",
          "state": {
            "_dom_classes": [],
            "_model_module": "@jupyter-widgets/controls",
            "_model_module_version": "1.5.0",
            "_model_name": "FloatProgressModel",
            "_view_count": null,
            "_view_module": "@jupyter-widgets/controls",
            "_view_module_version": "1.5.0",
            "_view_name": "ProgressView",
            "bar_style": "",
            "description": "",
            "description_tooltip": null,
            "layout": "IPY_MODEL_5b49249fa1ce4d0a97ca30ac6c483bc6",
            "max": 1,
            "min": 0,
            "orientation": "horizontal",
            "style": "IPY_MODEL_0a0bcbc25d5b4621aa1440e39072c653",
            "value": 1
          }
        },
        "5b2cea1a08eb40898c338ed2595170fd": {
          "model_module": "@jupyter-widgets/base",
          "model_name": "LayoutModel",
          "model_module_version": "1.2.0",
          "state": {
            "_model_module": "@jupyter-widgets/base",
            "_model_module_version": "1.2.0",
            "_model_name": "LayoutModel",
            "_view_count": null,
            "_view_module": "@jupyter-widgets/base",
            "_view_module_version": "1.2.0",
            "_view_name": "LayoutView",
            "align_content": null,
            "align_items": null,
            "align_self": null,
            "border": null,
            "bottom": null,
            "display": null,
            "flex": null,
            "flex_flow": null,
            "grid_area": null,
            "grid_auto_columns": null,
            "grid_auto_flow": null,
            "grid_auto_rows": null,
            "grid_column": null,
            "grid_gap": null,
            "grid_row": null,
            "grid_template_areas": null,
            "grid_template_columns": null,
            "grid_template_rows": null,
            "height": null,
            "justify_content": null,
            "justify_items": null,
            "left": null,
            "margin": null,
            "max_height": null,
            "max_width": null,
            "min_height": null,
            "min_width": null,
            "object_fit": null,
            "object_position": null,
            "order": null,
            "overflow": null,
            "overflow_x": null,
            "overflow_y": null,
            "padding": null,
            "right": null,
            "top": null,
            "visibility": null,
            "width": null
          }
        },
        "2d087f0c8fd945b78758a9784c597e8a": {
          "model_module": "@jupyter-widgets/base",
          "model_name": "LayoutModel",
          "model_module_version": "1.2.0",
          "state": {
            "_model_module": "@jupyter-widgets/base",
            "_model_module_version": "1.2.0",
            "_model_name": "LayoutModel",
            "_view_count": null,
            "_view_module": "@jupyter-widgets/base",
            "_view_module_version": "1.2.0",
            "_view_name": "LayoutView",
            "align_content": null,
            "align_items": null,
            "align_self": null,
            "border": null,
            "bottom": null,
            "display": null,
            "flex": null,
            "flex_flow": null,
            "grid_area": null,
            "grid_auto_columns": null,
            "grid_auto_flow": null,
            "grid_auto_rows": null,
            "grid_column": null,
            "grid_gap": null,
            "grid_row": null,
            "grid_template_areas": null,
            "grid_template_columns": null,
            "grid_template_rows": null,
            "height": null,
            "justify_content": null,
            "justify_items": null,
            "left": null,
            "margin": null,
            "max_height": null,
            "max_width": null,
            "min_height": null,
            "min_width": null,
            "object_fit": null,
            "object_position": null,
            "order": null,
            "overflow": null,
            "overflow_x": null,
            "overflow_y": null,
            "padding": null,
            "right": null,
            "top": null,
            "visibility": null,
            "width": null
          }
        },
        "f69b656148324105800cf477b4169546": {
          "model_module": "@jupyter-widgets/controls",
          "model_name": "DescriptionStyleModel",
          "model_module_version": "1.5.0",
          "state": {
            "_model_module": "@jupyter-widgets/controls",
            "_model_module_version": "1.5.0",
            "_model_name": "DescriptionStyleModel",
            "_view_count": null,
            "_view_module": "@jupyter-widgets/base",
            "_view_module_version": "1.2.0",
            "_view_name": "StyleView",
            "description_width": ""
          }
        },
        "5b49249fa1ce4d0a97ca30ac6c483bc6": {
          "model_module": "@jupyter-widgets/base",
          "model_name": "LayoutModel",
          "model_module_version": "1.2.0",
          "state": {
            "_model_module": "@jupyter-widgets/base",
            "_model_module_version": "1.2.0",
            "_model_name": "LayoutModel",
            "_view_count": null,
            "_view_module": "@jupyter-widgets/base",
            "_view_module_version": "1.2.0",
            "_view_name": "LayoutView",
            "align_content": null,
            "align_items": null,
            "align_self": null,
            "border": null,
            "bottom": null,
            "display": null,
            "flex": null,
            "flex_flow": null,
            "grid_area": null,
            "grid_auto_columns": null,
            "grid_auto_flow": null,
            "grid_auto_rows": null,
            "grid_column": null,
            "grid_gap": null,
            "grid_row": null,
            "grid_template_areas": null,
            "grid_template_columns": null,
            "grid_template_rows": null,
            "height": null,
            "justify_content": null,
            "justify_items": null,
            "left": null,
            "margin": null,
            "max_height": null,
            "max_width": null,
            "min_height": null,
            "min_width": null,
            "object_fit": null,
            "object_position": null,
            "order": null,
            "overflow": null,
            "overflow_x": null,
            "overflow_y": null,
            "padding": null,
            "right": null,
            "top": null,
            "visibility": null,
            "width": null
          }
        },
        "0a0bcbc25d5b4621aa1440e39072c653": {
          "model_module": "@jupyter-widgets/controls",
          "model_name": "ProgressStyleModel",
          "model_module_version": "1.5.0",
          "state": {
            "_model_module": "@jupyter-widgets/controls",
            "_model_module_version": "1.5.0",
            "_model_name": "ProgressStyleModel",
            "_view_count": null,
            "_view_module": "@jupyter-widgets/base",
            "_view_module_version": "1.2.0",
            "_view_name": "StyleView",
            "bar_color": null,
            "description_width": ""
          }
        }
      }
    }
  },
  "nbformat": 4,
  "nbformat_minor": 0
}