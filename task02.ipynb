{
  "nbformat": 4,
  "nbformat_minor": 0,
  "metadata": {
    "colab": {
      "name": "task02.ipynb",
      "provenance": [],
      "authorship_tag": "ABX9TyMmLPhb783FqYNUl3x8NHVS",
      "include_colab_link": true
    },
    "kernelspec": {
      "name": "python3",
      "display_name": "Python 3"
    },
    "language_info": {
      "name": "python"
    }
  },
  "cells": [
    {
      "cell_type": "markdown",
      "metadata": {
        "id": "view-in-github",
        "colab_type": "text"
      },
      "source": [
        "<a href=\"https://colab.research.google.com/github/saquibali7/Image_Segmentation/blob/main/task02.ipynb\" target=\"_parent\"><img src=\"https://colab.research.google.com/assets/colab-badge.svg\" alt=\"Open In Colab\"/></a>"
      ]
    },
    {
      "cell_type": "code",
      "execution_count": 1,
      "metadata": {
        "id": "nvKURn1Cvxg3"
      },
      "outputs": [],
      "source": [
        "import os\n",
        "import numpy as np\n",
        "import pandas as pd\n",
        "import matplotlib.pyplot as plt\n",
        "from numpy.random import randint\n",
        "from PIL import Image"
      ]
    },
    {
      "cell_type": "code",
      "source": [
        "import torch\n",
        "import torch.nn as nn\n",
        "import torchvision\n",
        "import torch.optim as optim\n",
        "from torch.utils.data import DataLoader\n",
        "from torch.utils.data import Dataset\n",
        "import torchvision.transforms as transforms\n",
        "from torchvision.io import read_image\n",
        "from torchvision.utils import save_image"
      ],
      "metadata": {
        "id": "flJW-phbaVjA"
      },
      "execution_count": 2,
      "outputs": []
    },
    {
      "cell_type": "code",
      "source": [
        "from google.colab import drive\n",
        "drive.mount('/content/drive')"
      ],
      "metadata": {
        "colab": {
          "base_uri": "https://localhost:8080/"
        },
        "id": "-xjmYu-pas3u",
        "outputId": "dafc3ea5-97fa-473d-c1e8-807d8679a598"
      },
      "execution_count": 3,
      "outputs": [
        {
          "output_type": "stream",
          "name": "stdout",
          "text": [
            "Drive already mounted at /content/drive; to attempt to forcibly remount, call drive.mount(\"/content/drive\", force_remount=True).\n"
          ]
        }
      ]
    },
    {
      "cell_type": "code",
      "source": [
        "path = '/content/drive/MyDrive/Data_Embryo_Mask'\n",
        "files = os.listdir(path)\n",
        "print(len(files))"
      ],
      "metadata": {
        "colab": {
          "base_uri": "https://localhost:8080/"
        },
        "id": "AU7tO_rHaukI",
        "outputId": "6146d88a-5d5a-47b0-e7ea-779f3d3a0313"
      },
      "execution_count": 4,
      "outputs": [
        {
          "output_type": "stream",
          "name": "stdout",
          "text": [
            "3668\n"
          ]
        }
      ]
    },
    {
      "cell_type": "code",
      "source": [
        "print(files[3009])"
      ],
      "metadata": {
        "colab": {
          "base_uri": "https://localhost:8080/"
        },
        "id": "paOEfKgdWQFQ",
        "outputId": "8bdbee13-2057-4f81-944a-2c047ed36e12"
      },
      "execution_count": 5,
      "outputs": [
        {
          "output_type": "stream",
          "name": "stdout",
          "text": [
            "Mask_4.jpg\n"
          ]
        }
      ]
    },
    {
      "cell_type": "code",
      "source": [
        "def file_no(file_name):\n",
        "  file_type = file_name.split(\"_\")\n",
        "  file_n = file_type[0]\n",
        "  file_no = file_type[1].split(\".\")\n",
        "  file_number = file_no[0]\n",
        "  return file_number"
      ],
      "metadata": {
        "id": "e-h9B3j0bpT4"
      },
      "execution_count": 6,
      "outputs": []
    },
    {
      "cell_type": "code",
      "source": [
        "def img_arr(path, file_name):\n",
        "  img = Image.open(os.path.join(path,file_name))\n",
        "  img = np.array(img)/255.0\n",
        "  print(img.shape)\n",
        "  return img\n"
      ],
      "metadata": {
        "id": "X4pUdn9dip7t"
      },
      "execution_count": 38,
      "outputs": []
    },
    {
      "cell_type": "code",
      "source": [
        "ix = randint(0, len(files))\n",
        "file_name = files[ix]\n",
        "n=file_no(file_name)\n",
        "if(file_name[0]=='M'):\n",
        "  mask_img = img_arr(path,file_name)\n",
        "  plt.subplot(1,2,1)\n",
        "  plt.imshow(mask_img)\n",
        "  plt.axis(\"off\")  \n",
        "  plt.title(\"Mask\")\n",
        "  plt.subplot(1,2,2)\n",
        "  emb_img = img_arr(path,'Embryo_'+n+'.jpg')\n",
        "  plt.imshow(emb_img)\n",
        "  plt.title(\"Embryo\")\n",
        "  plt.axis(\"off\")  \n",
        "else :\n",
        "  emb_img = img_arr(path, file_name)\n",
        "  plt.subplot(1,2,1)\n",
        "  plt.imshow(emb_img)\n",
        "  plt.title(\"Embryo\")\n",
        "  plt.axis(\"off\")  \n",
        "  plt.subplot(1,2,2)\n",
        "  mask_img = img_arr(path,'Mask_'+n+'.jpg')\n",
        "  plt.imshow(mask_img)\n",
        "  plt.title(\"Mask\")\n",
        "  plt.axis(\"off\") \n",
        "\n",
        "\n"
      ],
      "metadata": {
        "id": "RFFDx4rOb4ln",
        "colab": {
          "base_uri": "https://localhost:8080/",
          "height": 235
        },
        "outputId": "652911ee-cba9-46d6-f268-15a5be34b68f"
      },
      "execution_count": 43,
      "outputs": [
        {
          "output_type": "stream",
          "name": "stdout",
          "text": [
            "(500, 500, 4)\n",
            "(500, 500, 3)\n"
          ]
        },
        {
          "output_type": "display_data",
          "data": {
            "text/plain": [
              "<Figure size 432x288 with 2 Axes>"
            ],
            "image/png": "[encoded data removed]"
          },
          "metadata": {
            "needs_background": "light"
          }
        }
      ]
    },
    {
      "cell_type": "code",
      "source": [
        "X = []\n",
        "Y = []\n",
        "\n",
        "for file in files:\n",
        "  if(file[0]=='M'):\n",
        "    continue\n",
        "  else :\n",
        "    try:\n",
        "      img = Image.open(os.path.join(path, file))\n",
        "      emb_img =  img_arr(path, file)\n",
        "      n = file_no(file)\n",
        "      mask_img = img_arr(path, 'Mask_'+n+'.jpg')\n",
        "      X.append(emb_img)\n",
        "      Y.append(mask_img)\n",
        "    except:\n",
        "      print(\"Image not opened!!\")\n",
        "    \n",
        "    "
      ],
      "metadata": {
        "id": "3OU0vHXcgXWZ",
        "colab": {
          "base_uri": "https://localhost:8080/"
        },
        "outputId": "5c1b72dc-b39f-4020-eb52-f4b91c737c1c"
      },
      "execution_count": null,
      "outputs": [
        {
          "output_type": "stream",
          "name": "stdout",
          "text": [
            "Image not opened!!\n"
          ]
        }
      ]
    },
    {
      "cell_type": "markdown",
      "source": [
        "## UNET MODEL"
      ],
      "metadata": {
        "id": "RFbWyYn1bDv7"
      }
    },
    {
      "cell_type": "code",
      "source": [
        "class CNNBlocks(nn.Module):\n",
        "  def __init__(self, in_channels, out_channels, down=True, act=\"relu\", use_dropout=False):\n",
        "    super(CNNBlocks, self).__init__()\n",
        "    self.conv = nn.Sequential(\n",
        "        nn.Conv2d(in_channels, out_channels, 4, 2, 1, bias=False, padding_mode=\"reflect\")\n",
        "        if down\n",
        "        else nn.ConvTranspose2d(in_channels, out_channels, 4, 2, 1, bias = False),\n",
        "        nn.BatchNorm2d(out_channels),\n",
        "        nn.ReLU() if act==\"relu\" else nn.LeakyReLU(0.2),\n",
        "    )\n",
        "\n",
        "    self.use_dropout= use_dropout\n",
        "    self.dropout = nn.Dropout(0.5)\n",
        "    self.down = down\n",
        "\n",
        "  def forward(self, x):\n",
        "      x = self.conv(x)\n",
        "      return self.dropout(x) if self.use_dropout else x"
      ],
      "metadata": {
        "id": "wCpHYpUNYkDN"
      },
      "execution_count": 21,
      "outputs": []
    },
    {
      "cell_type": "code",
      "source": [
        "class Generator(nn.Module):\n",
        "  def __init__(self, in_channels, features=64):\n",
        "    super().__init__()\n",
        "    self.initial_down = nn.Sequential(\n",
        "        nn.Conv2d(in_channels, features, 4, 2, 1, padding_mode=\"reflect\"),\n",
        "        nn.LeakyReLU(0.2),\n",
        "    )\n",
        "\n",
        "    self.down1 = CNNBlocks(features, features*2, down=True, act=\"leaky\", use_dropout=False)\n",
        "    self.down2 = CNNBlocks(features*2, features*4, down=True, act=\"leaky\", use_dropout=False)\n",
        "    self.down3 = CNNBlocks(features*4, features*8, down=True, act=\"leaky\", use_dropout=False)\n",
        "    self.down4 = CNNBlocks(features*8, features*8, down=True, act=\"leaky\", use_dropout=False)\n",
        "    self.down5 = CNNBlocks(features*8, features*8, down=True, act=\"leaky\", use_dropout=False)\n",
        "    self.down6 = CNNBlocks(features*8, features*8, down=True, act=\"leaky\", use_dropout=False)\n",
        "    self.bottleneck = nn.Sequential(\n",
        "        nn.Conv2d(features*8, features*8, 4, 2, 1),\n",
        "        nn.ReLU(),\n",
        "    )\n",
        "\n",
        "    self.up1 = CNNBlocks(features*8, features*8, down=False, act=\"relu\", use_dropout=True)\n",
        "    self.up2 = CNNBlocks(features*8*2, features*8, down=False, act=\"relu\", use_dropout=True)\n",
        "    self.up3 = CNNBlocks(features*8*2, features*8, down=False, act=\"relu\", use_dropout=True)\n",
        "    self.up4 = CNNBlocks(features*8*2, features*8, down=False, act=\"relu\", use_dropout=False)\n",
        "    self.up5 = CNNBlocks(features*8*2, features*4, down=False, act=\"relu\", use_dropout=False)\n",
        "    self.up6 = CNNBlocks(features*4*2, features*2, down=False, act=\"relu\", use_dropout=False)\n",
        "    self.up7 = CNNBlocks(features*2*2, features, down=False, act=\"relu\", use_dropout=False)\n",
        "    self.finalup = nn.Sequential(\n",
        "        nn.ConvTranspose2d(features*2, in_channels, 4, 2, 1),\n",
        "        nn.Tanh(),\n",
        "    )\n",
        "\n",
        "  def forward(self , x):\n",
        "      d1 = self.initial_down(x)\n",
        "      d2 = self.down1(d1)\n",
        "      d3 = self.down2(d2)\n",
        "      d4 = self.down3(d3)\n",
        "      d5 = self.down4(d4)\n",
        "      d6 = self.down5(d5)\n",
        "      d7 = self.down6(d6)\n",
        "      bottleneck = self.bottleneck(d7)\n",
        "      up1 = self.up1(bottleneck)\n",
        "      up2 = self.up2(torch.cat([up1,d7], 1))\n",
        "      up3 = self.up3(torch.cat([up2,d6], 1))\n",
        "      up4 = self.up4(torch.cat([up3,d5], 1))\n",
        "      up5 = self.up5(torch.cat([up4,d4], 1))\n",
        "      up6 = self.up6(torch.cat([up5,d3], 1))\n",
        "      up7 = self.up7(torch.cat([up6,d2], 1))\n",
        "      return self.finalup(torch.cat([up7, d1], 1))"
      ],
      "metadata": {
        "id": "WlfhqU6qdzhW"
      },
      "execution_count": 25,
      "outputs": []
    },
    {
      "cell_type": "code",
      "source": [
        "in_channels = 3\n",
        "features = 64\n",
        "gen = Generator(in_channels = in_channels, features=features)\n",
        "x= torch.rand((1,3,256,256))\n",
        "out = gen(x)\n",
        "print(x.shape)"
      ],
      "metadata": {
        "colab": {
          "base_uri": "https://localhost:8080/"
        },
        "id": "tv6ZMLcwf9ZO",
        "outputId": "cc1037af-eb9a-4987-b38b-ba071f99645e"
      },
      "execution_count": 28,
      "outputs": [
        {
          "output_type": "stream",
          "name": "stdout",
          "text": [
            "torch.Size([1, 3, 256, 256])\n"
          ]
        }
      ]
    },
    {
      "cell_type": "code",
      "source": [
        "from torch.utils.data import Dataset, DataLoader\n",
        "from torchvision.utils import save_image"
      ],
      "metadata": {
        "id": "XhWOG6RzgSto"
      },
      "execution_count": 29,
      "outputs": []
    },
    {
      "cell_type": "code",
      "source": [
        "class ImageDataset(Dataset):\n",
        "  def __init__(self, root_dir):\n",
        "    self.root_dir = root_dir\n",
        "    self.files = os.listdir(self.root_dir)\n",
        "\n",
        "  def __len__(self):\n",
        "    return len(self.files)\n",
        "\n",
        "  def __getitem__(self, index):\n",
        "    img_file = self.files[index]\n",
        "    if(img_file[0]=='E'):\n",
        "      try:\n",
        "        img = Image.open(os.path.join(self.root_path, img_file))\n",
        "        emb_img =  img_arr(path, file)\n",
        "        n = file_no(file)\n",
        "        mask_img = img_arr(path, 'Mask_'+n+'.jpg')\n",
        "        return emb_img, mask_img\n",
        "      except:\n",
        "        print(\"Error!\")\n",
        "        \n"
      ],
      "metadata": {
        "id": "RL8theUdpCis"
      },
      "execution_count": 44,
      "outputs": []
    },
    {
      "cell_type": "code",
      "source": [
        "dataset = ImageDataset(path)\n",
        "loader = DataLoader(dataset, batch_size = 16)\n"
      ],
      "metadata": {
        "id": "ryIMTfjtnSnI"
      },
      "execution_count": 32,
      "outputs": []
    },
    {
      "cell_type": "code",
      "source": [
        "for idx, (x, y) in enumerate(loader):\n",
        "  plt.subplot(1, 2, 1)\n",
        "  plt.imshow(x[0])\n",
        "  plt.subplot(1, 2, 2)\n",
        "  plt.inshow(y[0])\n",
        "  break"
      ],
      "metadata": {
        "id": "et_L4eVCn0VH"
      },
      "execution_count": null,
      "outputs": []
    }
  ]
}