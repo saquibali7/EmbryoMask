{
  "cells": [
    {
      "cell_type": "markdown",
      "metadata": {
        "id": "view-in-github",
        "colab_type": "text"
      },
      "source": [
        "<a href=\"https://colab.research.google.com/github/saquibali7/Image_Segmentation/blob/main/task02.ipynb\" target=\"_parent\"><img src=\"https://colab.research.google.com/assets/colab-badge.svg\" alt=\"Open In Colab\"/></a>"
      ]
    },
    {
      "cell_type": "code",
      "execution_count": null,
      "metadata": {
        "id": "nvKURn1Cvxg3"
      },
      "outputs": [],
      "source": [
        "import os\n",
        "import numpy as np\n",
        "import pandas as pd\n",
        "import matplotlib.pyplot as plt\n",
        "from numpy.random import randint\n",
        "from PIL import Image"
      ]
    },
    {
      "cell_type": "code",
      "execution_count": null,
      "metadata": {
        "id": "flJW-phbaVjA"
      },
      "outputs": [],
      "source": [
        "import torch\n",
        "import torch.nn as nn\n",
        "import torchvision\n",
        "import torch.optim as optim\n",
        "from torch.utils.data import DataLoader\n",
        "from torch.utils.data import Dataset\n",
        "import torchvision.transforms as transforms\n",
        "from torchvision.io import read_image\n",
        "from torchvision.utils import save_image"
      ]
    },
    {
      "cell_type": "code",
      "execution_count": null,
      "metadata": {
        "id": "-xjmYu-pas3u"
      },
      "outputs": [],
      "source": [
        "from google.colab import drive\n",
        "drive.mount('/content/drive')"
      ]
    },
    {
      "cell_type": "markdown",
      "source": [
        "### UNET MODEL"
      ],
      "metadata": {
        "id": "1BlZ0779WhdB"
      }
    },
    {
      "cell_type": "code",
      "source": [
        "class CNNBlocks(nn.Module):\n",
        "  def __init__(self, in_channels, out_channels, down=True, act=\"relu\", use_dropout=False):\n",
        "    super(CNNBlocks, self).__init__()\n",
        "    self.conv = nn.Sequential(\n",
        "        nn.Conv2d(in_channels, out_channels, 4, 2, 1, bias=False, padding_mode=\"reflect\")\n",
        "        if down\n",
        "        else nn.ConvTranspose2d(in_channels, out_channels, 4, 2, 1, bias = False),\n",
        "        nn.BatchNorm2d(out_channels),\n",
        "        nn.ReLU() if act==\"relu\" else nn.LeakyReLU(0.2),\n",
        "    )\n",
        "\n",
        "    self.use_dropout= use_dropout\n",
        "    self.dropout = nn.Dropout(0.5)\n",
        "    self.down = down\n",
        "\n",
        "  def forward(self, x):\n",
        "      x = self.conv(x)\n",
        "      return self.dropout(x) if self.use_dropout else x"
      ],
      "metadata": {
        "id": "nl4PoJ3rWU6i"
      },
      "execution_count": 102,
      "outputs": []
    },
    {
      "cell_type": "code",
      "source": [
        "class Generator(nn.Module):\n",
        "  def __init__(self, in_channels, features=64):\n",
        "    super().__init__()\n",
        "    self.initial_down = nn.Sequential(\n",
        "        nn.Conv2d(in_channels, features, 4, 2, 1, padding_mode=\"reflect\"),\n",
        "        nn.LeakyReLU(0.2),\n",
        "    )\n",
        "\n",
        "    self.down1 = CNNBlocks(features, features*2, down=True, act=\"leaky\", use_dropout=False)\n",
        "    self.down2 = CNNBlocks(features*2, features*4, down=True, act=\"leaky\", use_dropout=False)\n",
        "    self.down3 = CNNBlocks(features*4, features*8, down=True, act=\"leaky\", use_dropout=False)\n",
        "    self.down4 = CNNBlocks(features*8, features*8, down=True, act=\"leaky\", use_dropout=False)\n",
        "    self.down5 = CNNBlocks(features*8, features*8, down=True, act=\"leaky\", use_dropout=False)\n",
        "    self.down6 = CNNBlocks(features*8, features*8, down=True, act=\"leaky\", use_dropout=False)\n",
        "    self.bottleneck = nn.Sequential(\n",
        "        nn.Conv2d(features*8, features*8, 4, 2, 1),\n",
        "        nn.ReLU(),\n",
        "    )\n",
        "\n",
        "    self.up1 = CNNBlocks(features*8, features*8, down=False, act=\"relu\", use_dropout=True)\n",
        "    self.up2 = CNNBlocks(features*8*2, features*8, down=False, act=\"relu\", use_dropout=True)\n",
        "    self.up3 = CNNBlocks(features*8*2, features*8, down=False, act=\"relu\", use_dropout=True)\n",
        "    self.up4 = CNNBlocks(features*8*2, features*8, down=False, act=\"relu\", use_dropout=False)\n",
        "    self.up5 = CNNBlocks(features*8*2, features*4, down=False, act=\"relu\", use_dropout=False)\n",
        "    self.up6 = CNNBlocks(features*4*2, features*2, down=False, act=\"relu\", use_dropout=False)\n",
        "    self.up7 = CNNBlocks(features*2*2, features, down=False, act=\"relu\", use_dropout=False)\n",
        "    self.finalup = nn.Sequential(\n",
        "        nn.ConvTranspose2d(features*2, 32 , 4, 2, 1),\n",
        "        nn.Tanh(),\n",
        "    )\n",
        "\n",
        "    self.final_layer = nn.Sequential(\n",
        "        nn.ConvTranspose2d(32, 4, 4, 2 , 1),\n",
        "        nn.Tanh(),\n",
        "    )\n",
        "\n",
        "  def forward(self , x):\n",
        "      d1 = self.initial_down(x)\n",
        "      d2 = self.down1(d1)\n",
        "      d3 = self.down2(d2)\n",
        "      d4 = self.down3(d3)\n",
        "      d5 = self.down4(d4)\n",
        "      d6 = self.down5(d5)\n",
        "      d7 = self.down6(d6)\n",
        "      bottleneck = self.bottleneck(d7)\n",
        "      up1 = self.up1(bottleneck)\n",
        "      up2 = self.up2(torch.cat([up1,d7], 1))\n",
        "      up3 = self.up3(torch.cat([up2,d6], 1))\n",
        "      up4 = self.up4(torch.cat([up3,d5], 1))\n",
        "      up5 = self.up5(torch.cat([up4,d4], 1))\n",
        "      up6 = self.up6(torch.cat([up5,d3], 1))\n",
        "      up7 = self.up7(torch.cat([up6,d2], 1))\n",
        "      up8 = self.finalup(torch.cat([up7, d1], 1))\n",
        "      return self.final_layer(up8)"
      ],
      "metadata": {
        "id": "ye_qN-vwWZUW"
      },
      "execution_count": 103,
      "outputs": []
    },
    {
      "cell_type": "code",
      "source": [
        "in_channels = 3\n",
        "features = 64\n",
        "gen = Generator(in_channels = in_channels, features=features)\n",
        "x= torch.rand((1,3,256,256))\n",
        "out = gen(x)\n",
        "print(x.shape)"
      ],
      "metadata": {
        "colab": {
          "base_uri": "https://localhost:8080/"
        },
        "id": "4FshMsr6WfPa",
        "outputId": "168d00b9-12cc-4947-cc2a-9d4650fb2807"
      },
      "execution_count": 104,
      "outputs": [
        {
          "output_type": "stream",
          "name": "stdout",
          "text": [
            "torch.Size([1, 3, 256, 256])\n"
          ]
        }
      ]
    },
    {
      "cell_type": "markdown",
      "source": [
        "### Data Preprocessing"
      ],
      "metadata": {
        "id": "d2X1ro_5Wm0P"
      }
    },
    {
      "cell_type": "code",
      "source": [
        "from torch.utils.data import Dataset, DataLoader\n",
        "from torchvision.utils import save_image\n",
        "import albumentations as A\n",
        "from albumentations.pytorch import ToTensorV2"
      ],
      "metadata": {
        "id": "bZkqacL2W2jf"
      },
      "execution_count": 106,
      "outputs": []
    },
    {
      "cell_type": "code",
      "source": [
        "CHANNELS_IMG = 3\n",
        "IMAGE_SIZE = 256\n",
        "LEARNING_RATE = 2e-4\n",
        "EPOCHS = 50\n",
        "FEATURES= 64\n",
        "BATCH_SIZE=16\n",
        "device = torch.device(\"cuda\" if torch.cuda.is_available() else \"cpu\")"
      ],
      "metadata": {
        "id": "cbkjLOqmZHpB"
      },
      "execution_count": 120,
      "outputs": []
    },
    {
      "cell_type": "code",
      "execution_count": 116,
      "metadata": {
        "colab": {
          "base_uri": "https://localhost:8080/"
        },
        "id": "AU7tO_rHaukI",
        "outputId": "dbe2dc07-cc79-4288-e25d-cb1bcc3c2ca9"
      },
      "outputs": [
        {
          "output_type": "stream",
          "name": "stdout",
          "text": [
            "3668\n"
          ]
        }
      ],
      "source": [
        "path = '/content/drive/MyDrive/Data_Embryo_Mask'\n",
        "files = os.listdir(path)\n",
        "print(len(files))"
      ]
    },
    {
      "cell_type": "code",
      "execution_count": null,
      "metadata": {
        "colab": {
          "base_uri": "https://localhost:8080/"
        },
        "id": "paOEfKgdWQFQ",
        "outputId": "e8c67253-9144-417d-faee-cba783cab3ea"
      },
      "outputs": [
        {
          "name": "stdout",
          "output_type": "stream",
          "text": [
            "Mask_4.jpg\n"
          ]
        }
      ],
      "source": [
        "print(files[3009])"
      ]
    },
    {
      "cell_type": "code",
      "execution_count": 48,
      "metadata": {
        "id": "e-h9B3j0bpT4"
      },
      "outputs": [],
      "source": [
        "def file_no(file_name):\n",
        "  file_type = file_name.split(\"_\")\n",
        "  file_n = file_type[0]\n",
        "  file_no = file_type[1].split(\".\")\n",
        "  file_number = file_no[0]\n",
        "  return file_number"
      ]
    },
    {
      "cell_type": "code",
      "execution_count": 51,
      "metadata": {
        "id": "V9L_RPkRJPVc"
      },
      "outputs": [],
      "source": [
        "transform = transforms.Resize(256)"
      ]
    },
    {
      "cell_type": "code",
      "execution_count": 92,
      "metadata": {
        "id": "X4pUdn9dip7t"
      },
      "outputs": [],
      "source": [
        "def img_arr(path, file_name):\n",
        "  img = Image.open(os.path.join(path,file_name))\n",
        "  img = transform(img)\n",
        "  img = np.array(img)/255.0\n",
        "  return img\n"
      ]
    },
    {
      "cell_type": "code",
      "execution_count": 93,
      "metadata": {
        "colab": {
          "base_uri": "https://localhost:8080/",
          "height": 199
        },
        "id": "RFFDx4rOb4ln",
        "outputId": "4ed3a6d9-63ed-4764-fa41-499e6e8ea674"
      },
      "outputs": [
        {
          "output_type": "display_data",
          "data": {
            "text/plain": [
              "<Figure size 432x288 with 2 Axes>"
            ],
            "image/png": "[encoded data removed]"
          },
          "metadata": {
            "needs_background": "light"
          }
        }
      ],
      "source": [
        "ix = randint(0, len(files))\n",
        "file_name = files[ix]\n",
        "n=file_no(file_name)\n",
        "if(file_name[0]=='M'):\n",
        "  mask_img = img_arr(path,file_name)\n",
        "  emb_img = img_arr(path,'Embryo_'+n+'.jpg')\n",
        "else :\n",
        "  emb_img = img_arr(path, file_name)\n",
        "  mask_img = img_arr(path,'Mask_'+n+'.jpg')\n",
        "\n",
        "img = [emb_img, mask_img]\n",
        "titles = [\"Embryo\", \"Mask\"]\n",
        "for i in range(2):\n",
        "  plt.subplot(1,2,i+1)\n",
        "  plt.imshow(img[i])\n",
        "  plt.title(titles[i])\n",
        "  plt.axis(\"off\")  \n",
        "  \n",
        "\n",
        "\n"
      ]
    },
    {
      "cell_type": "code",
      "execution_count": 56,
      "metadata": {
        "id": "Pma1_QylLKjw",
        "colab": {
          "base_uri": "https://localhost:8080/"
        },
        "outputId": "16158711-b8f6-4b03-dac0-7ec4c0656e78"
      },
      "outputs": [
        {
          "output_type": "stream",
          "name": "stdout",
          "text": [
            "Image not opened!!\n"
          ]
        }
      ],
      "source": [
        "X = []\n",
        "\n",
        "for file in files:\n",
        "  if(file[0]=='M'):\n",
        "    continue\n",
        "  else :\n",
        "    try:\n",
        "      img = Image.open(os.path.join(path, file))\n",
        "      emb_img =  img_arr(path, file)\n",
        "      n = file_no(file)\n",
        "      mask_img = img_arr(path, 'Mask_'+n+'.jpg')\n",
        "      X.append(file)\n",
        "    except:\n",
        "      print(\"Image not opened!!\")"
      ]
    },
    {
      "cell_type": "code",
      "execution_count": 86,
      "metadata": {
        "id": "RL8theUdpCis"
      },
      "outputs": [],
      "source": [
        "class ImageDataset(Dataset):\n",
        "  def __init__(self, root_dir, X):\n",
        "    self.root_dir = root_dir\n",
        "    self.files = os.listdir(self.root_dir)\n",
        "    self.transform = transform\n",
        "\n",
        "  def __len__(self):\n",
        "    return len(X)\n",
        "\n",
        "  def __getitem__(self, index):\n",
        "    img_file = X[index]\n",
        "    n = file_no(img_file)\n",
        "    emb_img = img_arr(self.root_dir,img_file)\n",
        "    mask_img = img_arr(self.root_dir, 'Mask_'+n+'.jpg')\n",
        "    return emb_img, mask_img\n",
        "    \n",
        "        \n"
      ]
    },
    {
      "cell_type": "code",
      "execution_count": 87,
      "metadata": {
        "id": "ryIMTfjtnSnI"
      },
      "outputs": [],
      "source": [
        "dataset = ImageDataset(path,X)\n",
        "loader = DataLoader(dataset, batch_size = 16)\n"
      ]
    },
    {
      "cell_type": "code",
      "source": [
        "for idx, (x, y) in enumerate(loader):\n",
        "  plt.subplot(1, 2, 1)\n",
        "  plt.imshow(x[0])\n",
        "  plt.subplot(1, 2, 2)\n",
        "  plt.imshow(y[0])\n",
        "  break"
      ],
      "metadata": {
        "colab": {
          "base_uri": "https://localhost:8080/",
          "height": 204
        },
        "id": "dTq-2pMcTVEe",
        "outputId": "8b250689-b1c9-488b-d382-3d82cff332bf"
      },
      "execution_count": 88,
      "outputs": [
        {
          "output_type": "display_data",
          "data": {
            "text/plain": [
              "<Figure size 432x288 with 2 Axes>"
            ],
            "image/png": "[encoded data removed]"
          },
          "metadata": {
            "needs_background": "light"
          }
        }
      ]
    },
    {
      "cell_type": "code",
      "execution_count": 89,
      "metadata": {
        "id": "et_L4eVCn0VH"
      },
      "outputs": [],
      "source": [
        "count = 0\n",
        "for idx, (x, y) in enumerate(loader):\n",
        "  count+=x.shape[0]"
      ]
    },
    {
      "cell_type": "code",
      "source": [
        "print(count)"
      ],
      "metadata": {
        "colab": {
          "base_uri": "https://localhost:8080/"
        },
        "id": "3xRW1o1fTPpV",
        "outputId": "b3605455-9a61-4064-a203-9b9bf2557d49"
      },
      "execution_count": 81,
      "outputs": [
        {
          "output_type": "stream",
          "name": "stdout",
          "text": [
            "1833\n"
          ]
        }
      ]
    },
    {
      "cell_type": "markdown",
      "source": [
        "### Trainig of Model"
      ],
      "metadata": {
        "id": "Aq1c1kJSXB1G"
      }
    },
    {
      "cell_type": "code",
      "source": [
        "gen = Generator(in_channels = CHANNELS_IMG , features=FEATURES).to(device)\n",
        "opt = optim.Adam(gen.parameters(), lr=LEARNING_RATE,betas=(0.5, 0.999))\n",
        "criterion = nn.CrossEntropyLoss()"
      ],
      "metadata": {
        "id": "gwres1mbTS7s"
      },
      "execution_count": 118,
      "outputs": []
    },
    {
      "cell_type": "code",
      "source": [
        "!pip install wandb"
      ],
      "metadata": {
        "colab": {
          "base_uri": "https://localhost:8080/"
        },
        "id": "KvLfSaexV_Xn",
        "outputId": "355c692c-dbc9-4fd9-fedf-aac3f86f3efa"
      },
      "execution_count": 108,
      "outputs": [
        {
          "output_type": "stream",
          "name": "stdout",
          "text": [
            "Looking in indexes: https://pypi.org/simple, https://us-python.pkg.dev/colab-wheels/public/simple/\n",
            "Collecting wandb\n",
            "  Downloading wandb-0.13.1-py2.py3-none-any.whl (1.8 MB)\n",
            "\u001b[K     |████████████████████████████████| 1.8 MB 5.1 MB/s \n",
            "\u001b[?25hRequirement already satisfied: Click!=8.0.0,>=7.0 in /usr/local/lib/python3.7/dist-packages (from wandb) (7.1.2)\n",
            "Collecting shortuuid>=0.5.0\n",
            "  Downloading shortuuid-1.0.9-py3-none-any.whl (9.4 kB)\n",
            "Collecting sentry-sdk>=1.0.0\n",
            "  Downloading sentry_sdk-1.9.3-py2.py3-none-any.whl (157 kB)\n",
            "\u001b[K     |████████████████████████████████| 157 kB 67.5 MB/s \n",
            "\u001b[?25hCollecting GitPython>=1.0.0\n",
            "  Downloading GitPython-3.1.27-py3-none-any.whl (181 kB)\n",
            "\u001b[K     |████████████████████████████████| 181 kB 72.5 MB/s \n",
            "\u001b[?25hRequirement already satisfied: promise<3,>=2.0 in /usr/local/lib/python3.7/dist-packages (from wandb) (2.3)\n",
            "Collecting setproctitle\n",
            "  Downloading setproctitle-1.3.1-cp37-cp37m-manylinux_2_5_x86_64.manylinux1_x86_64.manylinux_2_17_x86_64.manylinux2014_x86_64.whl (30 kB)\n",
            "Collecting pathtools\n",
            "  Downloading pathtools-0.1.2.tar.gz (11 kB)\n",
            "Requirement already satisfied: psutil>=5.0.0 in /usr/local/lib/python3.7/dist-packages (from wandb) (5.4.8)\n",
            "Requirement already satisfied: protobuf<4.0dev,>=3.12.0 in /usr/local/lib/python3.7/dist-packages (from wandb) (3.17.3)\n",
            "Requirement already satisfied: setuptools in /usr/local/lib/python3.7/dist-packages (from wandb) (57.4.0)\n",
            "Requirement already satisfied: PyYAML in /usr/local/lib/python3.7/dist-packages (from wandb) (3.13)\n",
            "Requirement already satisfied: requests<3,>=2.0.0 in /usr/local/lib/python3.7/dist-packages (from wandb) (2.23.0)\n",
            "Collecting docker-pycreds>=0.4.0\n",
            "  Downloading docker_pycreds-0.4.0-py2.py3-none-any.whl (9.0 kB)\n",
            "Requirement already satisfied: six>=1.13.0 in /usr/local/lib/python3.7/dist-packages (from wandb) (1.15.0)\n",
            "Requirement already satisfied: typing-extensions>=3.7.4.3 in /usr/local/lib/python3.7/dist-packages (from GitPython>=1.0.0->wandb) (4.1.1)\n",
            "Collecting gitdb<5,>=4.0.1\n",
            "  Downloading gitdb-4.0.9-py3-none-any.whl (63 kB)\n",
            "\u001b[K     |████████████████████████████████| 63 kB 2.0 MB/s \n",
            "\u001b[?25hCollecting smmap<6,>=3.0.1\n",
            "  Downloading smmap-5.0.0-py3-none-any.whl (24 kB)\n",
            "Requirement already satisfied: chardet<4,>=3.0.2 in /usr/local/lib/python3.7/dist-packages (from requests<3,>=2.0.0->wandb) (3.0.4)\n",
            "Requirement already satisfied: idna<3,>=2.5 in /usr/local/lib/python3.7/dist-packages (from requests<3,>=2.0.0->wandb) (2.10)\n",
            "Requirement already satisfied: urllib3!=1.25.0,!=1.25.1,<1.26,>=1.21.1 in /usr/local/lib/python3.7/dist-packages (from requests<3,>=2.0.0->wandb) (1.24.3)\n",
            "Requirement already satisfied: certifi>=2017.4.17 in /usr/local/lib/python3.7/dist-packages (from requests<3,>=2.0.0->wandb) (2022.6.15)\n",
            "Collecting sentry-sdk>=1.0.0\n",
            "  Downloading sentry_sdk-1.9.2-py2.py3-none-any.whl (157 kB)\n",
            "\u001b[K     |████████████████████████████████| 157 kB 74.7 MB/s \n",
            "\u001b[?25h  Downloading sentry_sdk-1.9.1-py2.py3-none-any.whl (157 kB)\n",
            "\u001b[K     |████████████████████████████████| 157 kB 65.9 MB/s \n",
            "\u001b[?25h  Downloading sentry_sdk-1.9.0-py2.py3-none-any.whl (156 kB)\n",
            "\u001b[K     |████████████████████████████████| 156 kB 71.2 MB/s \n",
            "\u001b[?25hBuilding wheels for collected packages: pathtools\n",
            "  Building wheel for pathtools (setup.py) ... \u001b[?25l\u001b[?25hdone\n",
            "  Created wheel for pathtools: filename=pathtools-0.1.2-py3-none-any.whl size=8806 sha256=eb8be42b1b55cd824ca5f9ae823e1376e50c9a02a81339e4f633d0f56e0567de\n",
            "  Stored in directory: /root/.cache/pip/wheels/3e/31/09/fa59cef12cdcfecc627b3d24273699f390e71828921b2cbba2\n",
            "Successfully built pathtools\n",
            "Installing collected packages: smmap, gitdb, shortuuid, setproctitle, sentry-sdk, pathtools, GitPython, docker-pycreds, wandb\n",
            "Successfully installed GitPython-3.1.27 docker-pycreds-0.4.0 gitdb-4.0.9 pathtools-0.1.2 sentry-sdk-1.9.0 setproctitle-1.3.1 shortuuid-1.0.9 smmap-5.0.0 wandb-0.13.1\n"
          ]
        }
      ]
    },
    {
      "cell_type": "code",
      "source": [
        "import wandb\n",
        "from torchvision.utils import make_grid"
      ],
      "metadata": {
        "id": "t7iSIgbMXNM9"
      },
      "execution_count": 121,
      "outputs": []
    },
    {
      "cell_type": "code",
      "source": [
        "step = 0\n",
        "gen.train()"
      ],
      "metadata": {
        "id": "KSi2dsgAXQTI"
      },
      "execution_count": null,
      "outputs": []
    },
    {
      "cell_type": "code",
      "source": [
        "wandb.init(\"task-02\")\n",
        "\n",
        "for epoch in range(EPOCHS):\n",
        "  for idx , (emb_img, mask_img) in enumerate(loader):\n",
        "    emb_img = emb_img.to(device)\n",
        "    mask_img = mask_img.to(device)\n",
        "    predicted_mask = gen(emb_img)\n",
        "    loss = criterion(predicted_mask, mask_img)\n",
        "\n",
        "    gen.zero_grad()\n",
        "    loss.gen.backward()\n",
        "    opt.step()\n",
        "\n",
        "    \n",
        "  wandb.log({\"LOSS : \" : loss, 'epoch' : epoch})  \n",
        "  with torch.inference_mode():\n",
        "   for batch_idx, (emb_img, mask_img) in enumerate(loader):\n",
        "     predicted_mask = gen(emb_img).to(device)\n",
        "     grid1 = make_grid(emb_img)\n",
        "     grid2 = make_grid(mask_img)\n",
        "     grid3 = make_grid(predicted_mask)\n",
        "     grid1 = wandb.Image(grid1, caption=\"Original Image\")\n",
        "     grid2 = wandb.Image(grid2, caption=\"Original Mask \")\n",
        "     grid3 = wandb.Image(grid2, caption=\"Predicted Mask\")\n",
        "     wandb.log({\"Original Image \": grid1})\n",
        "     wandb.log({\"Original Mask \": grid2})\n",
        "     wandb.log({\"Predicted Mask \" : grid3})\n"
      ],
      "metadata": {
        "id": "JguxoWBFXUeQ"
      },
      "execution_count": null,
      "outputs": []
    }
  ],
  "metadata": {
    "accelerator": "GPU",
    "colab": {
      "collapsed_sections": [],
      "name": "task02.ipynb",
      "provenance": [],
      "authorship_tag": "ABX9TyPMwCgtCwOB3WhrQsbGC9G6",
      "include_colab_link": true
    },
    "gpuClass": "standard",
    "kernelspec": {
      "display_name": "Python 3",
      "name": "python3"
    },
    "language_info": {
      "name": "python"
    }
  },
  "nbformat": 4,
  "nbformat_minor": 0
}